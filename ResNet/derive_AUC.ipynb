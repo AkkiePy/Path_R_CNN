{
 "cells": [
  {
   "cell_type": "code",
   "execution_count": 20,
   "metadata": {
    "collapsed": true
   },
   "outputs": [],
   "source": [
    "import csv\n",
    "from sklearn import metrics\n",
    "def read_csv(filename):\n",
    "    fpr = []\n",
    "    tpr = []\n",
    "    i = 0\n",
    "    with open(filename, 'rt') as f:\n",
    "        reader = csv.reader(f)\n",
    "        for row in reader:\n",
    "            if i:\n",
    "                fpr.append(float(row[0]))\n",
    "                tpr.append(float(row[1]))\n",
    "            i = i + 1\n",
    "    return fpr, tpr"
   ]
  },
  {
   "cell_type": "code",
   "execution_count": 21,
   "metadata": {},
   "outputs": [],
   "source": [
    "AUC = []\n",
    "for Set in [0, 1, 2, 3]:\n",
    "    filename = \"ROC_held_out_%d.csv\"%Set\n",
    "    fpr, tpr = read_csv(filename)\n",
    "    AUC.append(metrics.auc(fpr, tpr))"
   ]
  },
  {
   "cell_type": "code",
   "execution_count": 26,
   "metadata": {},
   "outputs": [
    {
     "name": "stdout",
     "output_type": "stream",
     "text": [
      "0.998015989097\n"
     ]
    },
    {
     "data": {
      "text/plain": [
       "0.0016523729019019787"
      ]
     },
     "execution_count": 26,
     "metadata": {},
     "output_type": "execute_result"
    }
   ],
   "source": [
    "from scipy import stats\n",
    "import numpy as np\n",
    "print(np.mean(AUC))\n",
    "stats.sem(AUC)"
   ]
  },
  {
   "cell_type": "code",
   "execution_count": null,
   "metadata": {
    "collapsed": true
   },
   "outputs": [],
   "source": []
  }
 ],
 "metadata": {
  "kernelspec": {
   "display_name": "Python 3",
   "language": "python",
   "name": "python3"
  },
  "language_info": {
   "codemirror_mode": {
    "name": "ipython",
    "version": 3
   },
   "file_extension": ".py",
   "mimetype": "text/x-python",
   "name": "python",
   "nbconvert_exporter": "python",
   "pygments_lexer": "ipython3",
   "version": "3.5.3"
  }
 },
 "nbformat": 4,
 "nbformat_minor": 2
}
