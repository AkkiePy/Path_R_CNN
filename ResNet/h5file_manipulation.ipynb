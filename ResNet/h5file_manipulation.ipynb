{
 "cells": [
  {
   "cell_type": "code",
   "execution_count": 1,
   "metadata": {
    "collapsed": true
   },
   "outputs": [],
   "source": [
    "import os\n",
    "import h5py"
   ]
  },
  {
   "cell_type": "code",
   "execution_count": 2,
   "metadata": {
    "collapsed": true
   },
   "outputs": [],
   "source": [
    "root_dir = os.getcwd()\n",
    "pre_t_filepath = os.path.join(root_dir, \"mask_rcnn_prostate_pretrained.h5\")\n",
    "resnet_filepath = os.path.join(root_dir, \"logs/prostate20180418T1255-held-out-set3(full)/mask_rcnn_prostate_0040.h5\")"
   ]
  },
  {
   "cell_type": "code",
   "execution_count": 3,
   "metadata": {
    "collapsed": true
   },
   "outputs": [],
   "source": [
    "def combine_tumor_classifier(pre_t_filepath, resnet_filepath):\n",
    "    \"\"\"This function combine the pretrained maskrcnn weights with the tumor classifier weights.\n",
    "    Function copy the tumor head from resnet file to pretrained file and save in the pretrained\n",
    "    file.\n",
    "    # Arguments\n",
    "    pre_t_filepath: specify the file location of the pretrained maskrcnn\n",
    "    resnet_filepath: specify the file location of the trained tumor classifier head\n",
    "    \"\"\"\n",
    "    \n",
    "    # read in the file\n",
    "    pre_t_f = h5py.File(pre_t_filepath, mode='r+')\n",
    "    resnet_f = h5py.File(resnet_filepath, mode='r')\n",
    "    \n",
    "    # delete all the tumor weights in the pre_t_f\n",
    "    for name in pre_t_f:\n",
    "        if name.startswith('tumor'):\n",
    "            del pre_t_f[name]\n",
    "    \n",
    "    # retrieve the object attributes 'layer_names'\n",
    "    layer_names = [n.decode('utf8') for n in pre_t_f.attrs['layer_names']]\n",
    "    # delete all the 'layer_names' starts with 'tumor'\n",
    "    for name in layer_names:\n",
    "        if name.startswith('tumor'):\n",
    "            layer_names.remove(name)\n",
    "    \n",
    "    # copy the tumor head from resnet_f to pre_t_f\n",
    "    for name in resnet_f:\n",
    "        if name.startswith('tumor'):\n",
    "            resnet_f.copy(name, pre_t_f)\n",
    "            layer_names.append(name)\n",
    "    \n",
    "    # modify the attribute 'layer_names'\n",
    "    layer_names = [n.encode('utf8') for n in layer_names]\n",
    "    pre_t_f.attrs.__delitem__('layer_names')\n",
    "    pre_t_f.attrs.create('layer_names', layer_names)\n",
    "    \n",
    "    pre_t_f.close()\n",
    "    resnet_f.close()"
   ]
  },
  {
   "cell_type": "code",
   "execution_count": 4,
   "metadata": {
    "collapsed": true
   },
   "outputs": [],
   "source": [
    "combine_tumor_classifier(pre_t_filepath, resnet_filepath)"
   ]
  },
  {
   "cell_type": "code",
   "execution_count": 5,
   "metadata": {
    "collapsed": true
   },
   "outputs": [],
   "source": [
    "# method to fetch the numpy data array from the h5 dataset object\n",
    "# weight_pre = kenel_pre[()]"
   ]
  }
 ],
 "metadata": {
  "kernelspec": {
   "display_name": "Python 3",
   "language": "python",
   "name": "python3"
  },
  "language_info": {
   "codemirror_mode": {
    "name": "ipython",
    "version": 3
   },
   "file_extension": ".py",
   "mimetype": "text/x-python",
   "name": "python",
   "nbconvert_exporter": "python",
   "pygments_lexer": "ipython3",
   "version": "3.5.3"
  }
 },
 "nbformat": 4,
 "nbformat_minor": 2
}
