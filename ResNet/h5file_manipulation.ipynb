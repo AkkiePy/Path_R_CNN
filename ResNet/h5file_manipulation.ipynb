{
 "cells": [
  {
   "cell_type": "code",
   "execution_count": 1,
   "metadata": {
    "collapsed": true
   },
   "outputs": [],
   "source": [
    "import os\n",
    "import h5py"
   ]
  },
  {
   "cell_type": "code",
   "execution_count": 2,
   "metadata": {
    "collapsed": true
   },
   "outputs": [],
   "source": [
    "root_dir = os.getcwd()\n",
    "pre_t_filepath = os.path.join(root_dir, \"mask_rcnn_prostate_pretrained.h5\")\n",
    "resnet_filepath = os.path.join(root_dir, \"logs/prostate20180227T2229/mask_rcnn_prostate_0040.h5\")"
   ]
  },
  {
   "cell_type": "code",
   "execution_count": 15,
   "metadata": {
    "collapsed": true
   },
   "outputs": [],
   "source": [
    "def combine_tumor_classifier(pre_t_filepath, resnet_filepath):\n",
    "    \"\"\"This function combine the pretrained maskrcnn weights with the tumor classifier weights.\n",
    "    Function copy the tumor head from resnet file to pretrained file and save in the pretrained\n",
    "    file.\n",
    "    # Arguments\n",
    "    pre_t_filepath: specify the file location of the pretrained maskrcnn\n",
    "    resnet_filepath: specify the file location of the trained tumor classifier head\n",
    "    \"\"\"\n",
    "    \n",
    "    # read in the file\n",
    "    pre_t_f = h5py.File(pre_t_filepath, mode='r+')\n",
    "    resnet_f = h5py.File(resnet_filepath, mode='r')\n",
    "    \n",
    "    # delete all the tumor weights in the pre_t_f\n",
    "    for name in pre_t_f:\n",
    "        if name.startswith('tumor'):\n",
    "            del pre_t_f[name]\n",
    "    \n",
    "    # copy the tumor head from resnet_f to pre_t_f\n",
    "    for name in resnet_f:\n",
    "        if name.startswith('tumor'):\n",
    "            resnet_f.copy('tumor_class_conv1', pre_t_f)\n",
    "    \n",
    "    pre_t_f.close()\n",
    "    resnet_f.close()"
   ]
  },
  {
   "cell_type": "code",
   "execution_count": 16,
   "metadata": {},
   "outputs": [
    {
     "ename": "ValueError",
     "evalue": "Destination object already exists (Destination object already exists)",
     "output_type": "error",
     "traceback": [
      "\u001b[0;31m---------------------------------------------------------------------------\u001b[0m",
      "\u001b[0;31mValueError\u001b[0m                                Traceback (most recent call last)",
      "\u001b[0;32m<ipython-input-16-69e349ca1dd4>\u001b[0m in \u001b[0;36m<module>\u001b[0;34m()\u001b[0m\n\u001b[0;32m----> 1\u001b[0;31m \u001b[0mcombine_tumor_classifier\u001b[0m\u001b[0;34m(\u001b[0m\u001b[0mpre_t_filepath\u001b[0m\u001b[0;34m,\u001b[0m \u001b[0mresnet_filepath\u001b[0m\u001b[0;34m)\u001b[0m\u001b[0;34m\u001b[0m\u001b[0m\n\u001b[0m",
      "\u001b[0;32m<ipython-input-15-335d9c1b5b7c>\u001b[0m in \u001b[0;36mcombine_tumor_classifier\u001b[0;34m(pre_t_filepath, resnet_filepath)\u001b[0m\n\u001b[1;32m     20\u001b[0m     \u001b[0;32mfor\u001b[0m \u001b[0mname\u001b[0m \u001b[0;32min\u001b[0m \u001b[0mresnet_f\u001b[0m\u001b[0;34m:\u001b[0m\u001b[0;34m\u001b[0m\u001b[0m\n\u001b[1;32m     21\u001b[0m         \u001b[0;32mif\u001b[0m \u001b[0mname\u001b[0m\u001b[0;34m.\u001b[0m\u001b[0mstartswith\u001b[0m\u001b[0;34m(\u001b[0m\u001b[0;34m'tumor'\u001b[0m\u001b[0;34m)\u001b[0m\u001b[0;34m:\u001b[0m\u001b[0;34m\u001b[0m\u001b[0m\n\u001b[0;32m---> 22\u001b[0;31m             \u001b[0mresnet_f\u001b[0m\u001b[0;34m.\u001b[0m\u001b[0mcopy\u001b[0m\u001b[0;34m(\u001b[0m\u001b[0;34m'tumor_class_conv1'\u001b[0m\u001b[0;34m,\u001b[0m \u001b[0mpre_t_f\u001b[0m\u001b[0;34m)\u001b[0m\u001b[0;34m\u001b[0m\u001b[0m\n\u001b[0m\u001b[1;32m     23\u001b[0m \u001b[0;34m\u001b[0m\u001b[0m\n\u001b[1;32m     24\u001b[0m     \u001b[0mpre_t_f\u001b[0m\u001b[0;34m.\u001b[0m\u001b[0mclose\u001b[0m\u001b[0;34m(\u001b[0m\u001b[0;34m)\u001b[0m\u001b[0;34m\u001b[0m\u001b[0m\n",
      "\u001b[0;32m/Users/wenyuan/anaconda/lib/python3.6/site-packages/h5py/_hl/group.py\u001b[0m in \u001b[0;36mcopy\u001b[0;34m(self, source, dest, name, shallow, expand_soft, expand_external, expand_refs, without_attrs)\u001b[0m\n\u001b[1;32m    391\u001b[0m \u001b[0;34m\u001b[0m\u001b[0m\n\u001b[1;32m    392\u001b[0m             h5o.copy(source.id, self._e(source_path), dest.id, self._e(dest_path),\n\u001b[0;32m--> 393\u001b[0;31m                      copypl, base.dlcpl)\n\u001b[0m\u001b[1;32m    394\u001b[0m \u001b[0;34m\u001b[0m\u001b[0m\n\u001b[1;32m    395\u001b[0m     \u001b[0;32mdef\u001b[0m \u001b[0mmove\u001b[0m\u001b[0;34m(\u001b[0m\u001b[0mself\u001b[0m\u001b[0;34m,\u001b[0m \u001b[0msource\u001b[0m\u001b[0;34m,\u001b[0m \u001b[0mdest\u001b[0m\u001b[0;34m)\u001b[0m\u001b[0;34m:\u001b[0m\u001b[0;34m\u001b[0m\u001b[0m\n",
      "\u001b[0;32mh5py/_objects.pyx\u001b[0m in \u001b[0;36mh5py._objects.with_phil.wrapper (/Users/ilan/minonda/conda-bld/h5py_1490026758621/work/h5py/_objects.c:2846)\u001b[0;34m()\u001b[0m\n",
      "\u001b[0;32mh5py/_objects.pyx\u001b[0m in \u001b[0;36mh5py._objects.with_phil.wrapper (/Users/ilan/minonda/conda-bld/h5py_1490026758621/work/h5py/_objects.c:2804)\u001b[0;34m()\u001b[0m\n",
      "\u001b[0;32mh5py/h5o.pyx\u001b[0m in \u001b[0;36mh5py.h5o.copy (/Users/ilan/minonda/conda-bld/h5py_1490026758621/work/h5py/h5o.c:4067)\u001b[0;34m()\u001b[0m\n",
      "\u001b[0;31mValueError\u001b[0m: Destination object already exists (Destination object already exists)"
     ]
    }
   ],
   "source": [
    "combine_tumor_classifier(pre_t_filepath, resnet_filepath)"
   ]
  },
  {
   "cell_type": "code",
   "execution_count": null,
   "metadata": {
    "collapsed": true
   },
   "outputs": [],
   "source": [
    "# method to fetch the numpy data array from the h5 dataset object\n",
    "# weight_pre = kenel_pre[()]"
   ]
  }
 ],
 "metadata": {
  "kernelspec": {
   "display_name": "Python 3",
   "language": "python",
   "name": "python3"
  },
  "language_info": {
   "codemirror_mode": {
    "name": "ipython",
    "version": 3
   },
   "file_extension": ".py",
   "mimetype": "text/x-python",
   "name": "python",
   "nbconvert_exporter": "python",
   "pygments_lexer": "ipython3",
   "version": "3.6.1"
  }
 },
 "nbformat": 4,
 "nbformat_minor": 2
}
