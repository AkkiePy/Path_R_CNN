{
 "cells": [
  {
   "cell_type": "code",
   "execution_count": null,
   "metadata": {},
   "outputs": [],
   "source": [
    "\"\"\"This ipynb file convert semantic mask of to instance mask\"\"\""
   ]
  },
  {
   "cell_type": "code",
   "execution_count": null,
   "metadata": {},
   "outputs": [],
   "source": [
    "import numpy as np\n",
    "from PIL import Image\n",
    "import os\n",
    "import scipy.io"
   ]
  },
  {
   "cell_type": "code",
   "execution_count": null,
   "metadata": {},
   "outputs": [],
   "source": [
    "def read_mat(mat_file_name):\n",
    "    import scipy.io\n",
    "    import skimage.io as io\n",
    "    key = 'ATmask'\n",
    "    mat = scipy.io.loadmat(mat_file_name, mat_dtype=True, squeeze_me=True, struct_as_record=False)\n",
    "    return mat[key];"
   ]
  },
  {
   "cell_type": "code",
   "execution_count": null,
   "metadata": {},
   "outputs": [],
   "source": [
    "def convert_mat_annotations_to_png(mat_file_name):\n",
    "    \"\"\" convert mat annotation file to png image \n",
    "    \n",
    "    Parameters\n",
    "    ----------\n",
    "    masks_file_name\n",
    "        Path to the matfile.\n",
    "    \n",
    "    \"\"\"\n",
    "    \n",
    "    import scipy.io\n",
    "    \n",
    "    import skimage.io as io\n",
    "    label_colours = [(128, 0, 0), (0, 128,0), (0, 0, 128), (128, 128, 0)]\n",
    "    \n",
    "    key = 'ATmask'\n",
    "    \n",
    "    mat = scipy.io.loadmat(mat_file_name, mat_dtype=True, squeeze_me=True, struct_as_record=False)\n",
    "    h,w = mat[key].shape\n",
    "\n",
    "    outputs = np.zeros((h,w,3), dtype = np.uint8)\n",
    "    num_classes = 5\n",
    "\n",
    "    img = Image.new('RGB', (h, w))\n",
    "    pixels = img.load()\n",
    "    for j_, j in enumerate(mat[key]):\n",
    "        for k_, k in enumerate(j):\n",
    "            if k < num_classes:\n",
    "                pixels[k_,j_] = label_colours[int(k-1)]\n",
    "    outputs = np.array(img)\n",
    "    return outputs"
   ]
  },
  {
   "cell_type": "code",
   "execution_count": null,
   "metadata": {},
   "outputs": [],
   "source": [
    "def convert_segmentation_array_to_png(mask, class_id):\n",
    "    \"\"\" convert mat annotation file to png image \n",
    "    \n",
    "    Parameters\n",
    "    ----------\n",
    "    masks_file_name\n",
    "        Path to the matfile.\n",
    "    \n",
    "    \"\"\"\n",
    "    mask = np.transpose(mask)\n",
    "    import scipy.io\n",
    "    \n",
    "    import skimage.io as io\n",
    "    label_colours = [(128, 0, 0), (0, 128,0), (0, 0, 128), (128, 128, 0)]\n",
    "    \n",
    "    h,w = mask.shape\n",
    "\n",
    "    outputs = np.zeros((h,w,3), dtype = np.uint8)\n",
    "    num_classes = 4\n",
    "\n",
    "    img = Image.new('RGB', (h, w))\n",
    "    pixels = img.load()\n",
    "    for j_, j in enumerate(mask):\n",
    "        for k_, k in enumerate(j):\n",
    "            if k == 1:\n",
    "                pixels[j_,k_] = label_colours[int(class_id - 1)]\n",
    "    outputs = np.array(img)\n",
    "    return outputs"
   ]
  },
  {
   "cell_type": "code",
   "execution_count": null,
   "metadata": {},
   "outputs": [],
   "source": [
    "def convert_array_to_png(mat):\n",
    "    \"\"\" convert mat annotation file to png image \n",
    "    \n",
    "    Parameters\n",
    "    ----------\n",
    "    masks_file_name\n",
    "        Path to the matfile.\n",
    "    \n",
    "    \"\"\"\n",
    "    mat = np.transpose(mat)\n",
    "    import scipy.io\n",
    "    \n",
    "    import skimage.io as io\n",
    "    label_colours = [(128, 0, 0), (0, 128,0), (0, 0, 128), (128, 128, 0)]\n",
    "    \n",
    "    h,w = mat.shape\n",
    "\n",
    "    outputs = np.zeros((h,w,3), dtype = np.uint8)\n",
    "    num_classes = 4\n",
    "\n",
    "    img = Image.new('RGB', (h, w))\n",
    "    pixels = img.load()\n",
    "    for j_, j in enumerate(mat):\n",
    "        for k_, k in enumerate(j):\n",
    "            if k <= num_classes:\n",
    "                pixels[j_,k_] = label_colours[int(k-1)]\n",
    "    outputs = np.array(img)\n",
    "    return outputs"
   ]
  },
  {
   "cell_type": "code",
   "execution_count": null,
   "metadata": {},
   "outputs": [],
   "source": [
    "class Unionfind:\n",
    "    \n",
    "    def __init__(self, n, mask):\n",
    "        self.father = np.arange(n)\n",
    "    \n",
    "    def _find(self, x):\n",
    "        if self.father[x] == x: \n",
    "            return x\n",
    "        self.father[x] = self._find(self.father[x])\n",
    "        return self.father[x]\n",
    "    \n",
    "    def connect(self, a, b):\n",
    "        root_a = self._find(a)\n",
    "        root_b = self._find(b)\n",
    "        if (root_a != root_b):\n",
    "            self.father[root_b] = root_a\n",
    "            \n",
    "    def set_father(self, pos, val):\n",
    "        self.father[pos] = val"
   ]
  },
  {
   "cell_type": "code",
   "execution_count": null,
   "metadata": {},
   "outputs": [],
   "source": [
    "data_path = '/data/wenyuan/Path_R_CNN/Data_Pre_Processing'\n",
    "mat_file_name = os.path.join(data_path, 'cedars-224/masks/0000.mat')\n",
    "matfile = read_mat(mat_file_name)"
   ]
  },
  {
   "cell_type": "code",
   "execution_count": null,
   "metadata": {},
   "outputs": [],
   "source": [
    "outputs = convert_mat_annotations_to_png(mat_file_name)\n",
    "im = Image.fromarray(outputs)\n",
    "im.show()"
   ]
  },
  {
   "cell_type": "code",
   "execution_count": null,
   "metadata": {},
   "outputs": [],
   "source": [
    "mask = matfile.astype(int)\n",
    "r, c = mask.shape\n",
    "my_union = Unionfind(r * c, mask.reshape(-1))\n",
    "\n",
    "dr = [0, 1, -1, 0] # right, down, up, left\n",
    "dc = [1, 0, 0, -1]\n",
    "old = np.ones(r * c)\n",
    "while(not np.array_equal(my_union.father,old)):   \n",
    "    old = np.copy(my_union.father)\n",
    "    for i in range(r):\n",
    "        for j in range(c):\n",
    "            if(mask[i, j] == 4):\n",
    "                my_union.set_father(i * c + j, -1)\n",
    "            else:\n",
    "                for k in range(4):\n",
    "                    if (i + dr[k] >= 0 and i + dr[k] < r and\n",
    "                       j + dc[k] >= 0 and j + dc[k] < c and mask[i + dr[k], j + dc[k]] == mask[i, j]):\n",
    "                        my_union.connect(i * c + j, (i + dr[k]) * c + j + dc[k])"
   ]
  },
  {
   "cell_type": "code",
   "execution_count": null,
   "metadata": {},
   "outputs": [],
   "source": [
    "res = my_union.father.reshape((r, c))"
   ]
  },
  {
   "cell_type": "code",
   "execution_count": null,
   "metadata": {},
   "outputs": [],
   "source": [
    "unique_set = np.copy(np.unique(res))\n",
    "class_ids = []\n",
    "hash_dict = {'4': 0, '1':1, '2':2, '3':3}\n",
    "for index, val in enumerate(unique_set):\n",
    "    if index == 0:\n",
    "        stack = (res == val).astype(int)\n",
    "    else:\n",
    "        stack = np.dstack((stack, (res == val).astype(int)))\n",
    "    pos = np.argwhere(res == val)[0]\n",
    "    class_ids.append(hash_dict[str(mask[pos[0], pos[1]])])"
   ]
  },
  {
   "cell_type": "code",
   "execution_count": null,
   "metadata": {},
   "outputs": [],
   "source": [
    "# save to mat file\n",
    "res_dict = {'segmentation': stack, 'class_ids': class_ids}\n",
    "scipy.io.savemat(os.path.join(data_path, 'cedars-224/masks/0000_instance.mat'), \\\n",
    "                 res_dict)"
   ]
  }
 ],
 "metadata": {
  "anaconda-cloud": {},
  "kernelspec": {
   "display_name": "Python 3",
   "language": "python",
   "name": "python3"
  },
  "language_info": {
   "codemirror_mode": {
    "name": "ipython",
    "version": 3
   },
   "file_extension": ".py",
   "mimetype": "text/x-python",
   "name": "python",
   "nbconvert_exporter": "python",
   "pygments_lexer": "ipython3",
   "version": "3.6.5"
  }
 },
 "nbformat": 4,
 "nbformat_minor": 2
}
