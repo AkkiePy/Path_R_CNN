{
 "cells": [
  {
   "cell_type": "code",
   "execution_count": null,
   "metadata": {},
   "outputs": [],
   "source": [
    "\"\"\"This ipynb helps show the effect to combine the patch back to the original pic\"\"\""
   ]
  },
  {
   "cell_type": "code",
   "execution_count": null,
   "metadata": {},
   "outputs": [],
   "source": [
    "import utils\n",
    "import numpy as np\n",
    "import os\n",
    "from PIL import Image"
   ]
  },
  {
   "cell_type": "code",
   "execution_count": null,
   "metadata": {},
   "outputs": [],
   "source": [
    "from prostate_dataset import ProstateDataset"
   ]
  },
  {
   "cell_type": "code",
   "execution_count": null,
   "metadata": {},
   "outputs": [],
   "source": [
    "def instance_2_sementic(instance_mask, class_ids):\n",
    "    try:\n",
    "        h, w, d = instance_mask.shape\n",
    "    except ValueError:\n",
    "        mask = int(class_ids) * instance_mask \n",
    "        result_dict = {'ATmask': mask}\n",
    "        return result_dict\n",
    "    \n",
    "    mask_map = {}\n",
    "    for index, label in enumerate(class_ids):\n",
    "        mask_map[str(label)] = np.logical_or(mask_map[str(label)], \\\n",
    "                                             instance_mask[:, :, index]) \\\n",
    "        if str(label) in mask_map.keys() else instance_mask[:, :, index]\n",
    "    \n",
    "    mask = np.zeros((h, w), dtype=np.int)\n",
    "\n",
    "    for key in mask_map.keys():\n",
    "        if (key != '0'):\n",
    "            mask = mask + int(key) * mask_map[key] \n",
    "    result_dict = {'ATmask': mask}\n",
    "    return result_dict"
   ]
  },
  {
   "cell_type": "code",
   "execution_count": null,
   "metadata": {},
   "outputs": [],
   "source": [
    "def combine_2_whole_slide(patch_list, width_num, height_num):\n",
    "    assert len(patch_list) == width_num * height_num, \"Patch num doesn't match width_num * height_num!\"\n",
    "    row_level = []\n",
    "    for i in range(height_num):\n",
    "        cur_level = np.concatenate(patch_list[i * width_num : (i + 1) * width_num], axis = 1)\n",
    "        row_level.append(cur_level)\n",
    "    return np.concatenate(row_level, axis = 0)"
   ]
  },
  {
   "cell_type": "code",
   "execution_count": null,
   "metadata": {},
   "outputs": [],
   "source": [
    "image_id = 318\n",
    "img = []\n",
    "ann = []\n",
    "data_path = '/data/wenyuan/Path_R_CNN/Data_Pre_Processing'\n",
    "for patch in range(16):\n",
    "    dataset_dir = os.path.join(data_path, 'cedars-224')\n",
    "    dataset = ProstateDataset(dataset_dir)\n",
    "    image = dataset.read_image(image_id, dir_name = '/tiles_16', patch_num = patch)\n",
    "    instance_mask, class_ids = dataset.read_instance_ann(image_id, dir_name = '/masks_instance_mod_16', \\\n",
    "                                               mode = 16, patch = patch)\n",
    "    mask = instance_2_sementic(instance_mask, class_ids)\n",
    "    \n",
    "    img.append(image[150:450, 150:450, :])\n",
    "    ann.append(mask['ATmask'][150:450, 150:450])"
   ]
  },
  {
   "cell_type": "code",
   "execution_count": null,
   "metadata": {},
   "outputs": [],
   "source": [
    "whole_image = combine_2_whole_slide(img, 4, 4)\n",
    "whole_ann = combine_2_whole_slide(ann, 4, 4)"
   ]
  },
  {
   "cell_type": "code",
   "execution_count": null,
   "metadata": {},
   "outputs": [],
   "source": [
    "img = Image.fromarray(whole_image, \"RGB\")\n",
    "img.show()"
   ]
  }
 ],
 "metadata": {
  "kernelspec": {
   "display_name": "Python 3",
   "language": "python",
   "name": "python3"
  },
  "language_info": {
   "codemirror_mode": {
    "name": "ipython",
    "version": 3
   },
   "file_extension": ".py",
   "mimetype": "text/x-python",
   "name": "python",
   "nbconvert_exporter": "python",
   "pygments_lexer": "ipython3",
   "version": "3.6.5"
  }
 },
 "nbformat": 4,
 "nbformat_minor": 2
}
