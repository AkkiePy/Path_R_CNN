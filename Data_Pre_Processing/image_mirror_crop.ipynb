{
 "cells": [
  {
   "cell_type": "code",
   "execution_count": 13,
   "metadata": {
    "collapsed": true
   },
   "outputs": [],
   "source": [
    "import numpy as np\n",
    "from PIL import Image\n",
    "import os\n",
    "import scipy.io\n",
    "from prostate_dataset import ProstateDataset"
   ]
  },
  {
   "cell_type": "code",
   "execution_count": 14,
   "metadata": {
    "collapsed": true
   },
   "outputs": [],
   "source": [
    "def _crop_split_image(img_org, \\\n",
    "                             height = 600, width = 600, \\\n",
    "                             image_id = 0, save = False):\n",
    "        \n",
    "        imgheight, imgwidth, _ = img_org.shape\n",
    "        \n",
    "        img = []\n",
    "        \n",
    "        current_image = 0\n",
    "        for i in range(0, imgheight - 301, 300):\n",
    "            for j in range(0, imgwidth - 301, 300):\n",
    "                img_temp = img_org[i : i + height, j : j + width, :]\n",
    "                img.append(img_temp)\n",
    "                if save:\n",
    "                    img_tile = Image.fromarray(img_temp, 'RGB')\n",
    "                    img_filename = str(image_id).zfill(4) + '_' + str(current_image).zfill(4) + '.jpg'\n",
    "                    img_tile.save('./cedars-224/tiles_16/' + img_filename)\n",
    "                    current_image += 1\n",
    "        return img"
   ]
  },
  {
   "cell_type": "code",
   "execution_count": 15,
   "metadata": {
    "collapsed": true
   },
   "outputs": [],
   "source": [
    "def _image_padding(img_org):\n",
    "        img_pad = np.lib.pad(img_org, ((150,150),(150,150), (0, 0)), 'symmetric')\n",
    "        return img_pad"
   ]
  },
  {
   "cell_type": "code",
   "execution_count": 16,
   "metadata": {
    "collapsed": true
   },
   "outputs": [],
   "source": [
    "# dataset_dir = os.path.join(os.getcwd(), 'cedars-224')\n",
    "dataset_dir = \"/data/wenyuan/Mask-RCNN/Mask-RCNN-Path/Data_Pre_Processing/\"\n",
    "data = ProstateDataset(dataset_dir)"
   ]
  },
  {
   "cell_type": "code",
   "execution_count": 21,
   "metadata": {
    "collapsed": true
   },
   "outputs": [],
   "source": [
    "start_id = 0\n",
    "end_id = 513\n",
    "for image_id in range(start_id, end_id):\n",
    "    image_org = data.read_image(image_id)\n",
    "    image_pad = _image_padding(image_org)\n",
    "    _= _crop_split_image(image_pad, height = 600, width = 600, image_id = image_id, save = True)"
   ]
  },
  {
   "cell_type": "code",
   "execution_count": 18,
   "metadata": {},
   "outputs": [],
   "source": [
    "## test code for a single image\n",
    "# image_id = 0\n",
    "# image_org = data.read_image(image_id)\n",
    "# image_pad = _image_padding(image_org)"
   ]
  },
  {
   "cell_type": "code",
   "execution_count": 19,
   "metadata": {},
   "outputs": [
    {
     "name": "stdout",
     "output_type": "stream",
     "text": [
      "(1501, 1501, 3) (1201, 1201, 3)\n"
     ]
    }
   ],
   "source": [
    "# print(image_pad.shape, image_org.shape)"
   ]
  },
  {
   "cell_type": "code",
   "execution_count": 20,
   "metadata": {
    "collapsed": true
   },
   "outputs": [],
   "source": [
    "# _= _crop_split_image(image_pad, height = 600, width = 600, image_id = image_id, save = True)"
   ]
  }
 ],
 "metadata": {
  "kernelspec": {
   "display_name": "Python 3",
   "language": "python",
   "name": "python3"
  },
  "language_info": {
   "codemirror_mode": {
    "name": "ipython",
    "version": 3
   },
   "file_extension": ".py",
   "mimetype": "text/x-python",
   "name": "python",
   "nbconvert_exporter": "python",
   "pygments_lexer": "ipython3",
   "version": "3.5.3"
  }
 },
 "nbformat": 4,
 "nbformat_minor": 2
}
