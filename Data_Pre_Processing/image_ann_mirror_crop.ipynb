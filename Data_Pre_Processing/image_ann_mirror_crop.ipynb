{
 "cells": [
  {
   "cell_type": "code",
   "execution_count": null,
   "metadata": {},
   "outputs": [],
   "source": [
    "\"\"\"This ipynb helps inspect mirror and crop effect on image and annotation\"\"\""
   ]
  },
  {
   "cell_type": "code",
   "execution_count": null,
   "metadata": {},
   "outputs": [],
   "source": [
    "import numpy as np\n",
    "from PIL import Image\n",
    "import os\n",
    "import scipy.io\n",
    "from prostate_dataset import ProstateDataset"
   ]
  },
  {
   "cell_type": "code",
   "execution_count": null,
   "metadata": {},
   "outputs": [],
   "source": [
    "def _crop_split_image(img_org, annotation_org, \\\n",
    "                                     height = 200, width = 200, \\\n",
    "                                     image_id = 0, save = False):\n",
    "        \n",
    "        imgheight, imgwidth, _ = img_org.shape\n",
    "        annheight, annwidth = annotation_org.shape\n",
    "        assert imgwidth == annwidth and imgheight == annheight, \"The image and annotation size don't match!\"\n",
    "        \n",
    "        img = []\n",
    "        ann = []\n",
    "        \n",
    "        current_image = 0\n",
    "        for i in range(0, imgheight - 101, 100):\n",
    "            for j in range(0, imgwidth - 101, 100):\n",
    "                img_temp = img_org[i : i + height, j : j + width, :]\n",
    "                img.append(img_temp)\n",
    "                ann_temp = annotation_org[i : i + height, j : j + width]\n",
    "                ann.append(ann_temp)\n",
    "                if save:\n",
    "                    ann_dict = {'ATmask': ann_temp}\n",
    "                    ann_filename = str(image_id).zfill(4) + '_' + str(current_image).zfill(4) + '_sementic.mat'\n",
    "                    scipy.io.savemat('./cedars-224/masks_sementic_mod_144/' + \\\n",
    "                                     ann_filename, ann_dict)\n",
    "                    img_tile = Image.fromarray(img_temp, 'RGB')\n",
    "                    img_filename = str(image_id).zfill(4) + '_' + str(current_image).zfill(4) + '.jpg'\n",
    "                    img_tile.save('./cedars-224/tiles_144/' + img_filename)\n",
    "                    current_image += 1\n",
    "        return img, ann"
   ]
  },
  {
   "cell_type": "code",
   "execution_count": null,
   "metadata": {},
   "outputs": [],
   "source": [
    "def _image_padding(img_org, annotation_org):\n",
    "        img_pad = np.lib.pad(img_org, ((50,50),(50,50), (0, 0)), 'symmetric')\n",
    "        ann_pad = np.lib.pad(annotation_org, ((50, 50), (50, 50)), 'symmetric') \n",
    "        return img_pad, ann_pad"
   ]
  },
  {
   "cell_type": "code",
   "execution_count": null,
   "metadata": {},
   "outputs": [],
   "source": [
    "data_path = '/data/wenyuan/Path_R_CNN/Data_Pre_Processing'\n",
    "dataset_dir = os.path.join(data_path, 'cedars-224')\n",
    "data = ProstateDataset(dataset_dir)"
   ]
  },
  {
   "cell_type": "code",
   "execution_count": null,
   "metadata": {},
   "outputs": [],
   "source": [
    "image_id = 0\n",
    "patch_num = 2\n",
    "image_org = data.read_image(image_id, dir_name = '/tiles_144', patch_num = patch_num)\n",
    "\n",
    "ann_org = data.read_original_ann(image_id, dir_name = '/masks_sementic_mod_144', patch_num = patch_num)\n",
    "ann_decode = data.convert_mat_annotations_to_png(ann_org)\n",
    "data.show_ann_png(ann_decode)"
   ]
  }
 ],
 "metadata": {
  "kernelspec": {
   "display_name": "Python 3",
   "language": "python",
   "name": "python3"
  },
  "language_info": {
   "codemirror_mode": {
    "name": "ipython",
    "version": 3
   },
   "file_extension": ".py",
   "mimetype": "text/x-python",
   "name": "python",
   "nbconvert_exporter": "python",
   "pygments_lexer": "ipython3",
   "version": "3.6.5"
  }
 },
 "nbformat": 4,
 "nbformat_minor": 2
}
