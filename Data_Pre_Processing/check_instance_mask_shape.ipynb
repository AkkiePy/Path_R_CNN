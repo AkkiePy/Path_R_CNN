{
 "cells": [
  {
   "cell_type": "code",
   "execution_count": 1,
   "metadata": {
    "collapsed": true
   },
   "outputs": [],
   "source": [
    "from prostate_dataset import ProstateDataset"
   ]
  },
  {
   "cell_type": "code",
   "execution_count": 2,
   "metadata": {
    "collapsed": true
   },
   "outputs": [],
   "source": [
    "import numpy as np\n",
    "import os"
   ]
  },
  {
   "cell_type": "code",
   "execution_count": 3,
   "metadata": {
    "collapsed": true
   },
   "outputs": [],
   "source": [
    "dataset_dir = os.path.join(os.getcwd(), 'cedars-224')"
   ]
  },
  {
   "cell_type": "code",
   "execution_count": 4,
   "metadata": {},
   "outputs": [
    {
     "name": "stdout",
     "output_type": "stream",
     "text": [
      "(600, 600, 2)\n",
      "(600, 600, 2)\n",
      "(600, 600, 2)\n",
      "(600, 600, 2)\n"
     ]
    }
   ],
   "source": [
    "dataset = ProstateDataset(dataset_dir)\n",
    "mode = 16\n",
    "for image_id in range(1):\n",
    "    for patch in range(12,16):\n",
    "        mask, class_ids = dataset.read_instance_ann(image_id, mode = mode, patch = patch)\n",
    "        print(mask.shape)\n",
    "        if [mask.shape[0], mask.shape[1]] != [600, 600]:\n",
    "            print(\"Prostate instance mask %d - %d doesn't match!\" %(image_id, patch))"
   ]
  },
  {
   "cell_type": "code",
   "execution_count": null,
   "metadata": {
    "collapsed": true
   },
   "outputs": [],
   "source": []
  }
 ],
 "metadata": {
  "kernelspec": {
   "display_name": "Python 3",
   "language": "python",
   "name": "python3"
  },
  "language_info": {
   "codemirror_mode": {
    "name": "ipython",
    "version": 3
   },
   "file_extension": ".py",
   "mimetype": "text/x-python",
   "name": "python",
   "nbconvert_exporter": "python",
   "pygments_lexer": "ipython3",
   "version": "3.5.3"
  }
 },
 "nbformat": 4,
 "nbformat_minor": 2
}
