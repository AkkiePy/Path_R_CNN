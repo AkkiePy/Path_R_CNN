{
 "cells": [
  {
   "cell_type": "code",
   "execution_count": 1,
   "metadata": {
    "collapsed": true
   },
   "outputs": [],
   "source": [
    "import os\n",
    "import numpy as np\n",
    "from prostate_dataset import ProstateDataset\n",
    "dirname = os.path.join(os.getcwd(), 'cedars-224')\n",
    "data = ProstateDataset(dirname)"
   ]
  },
  {
   "cell_type": "code",
   "execution_count": 2,
   "metadata": {},
   "outputs": [],
   "source": [
    "_, mask, class_ids, scores = data.read_mask_rcnn_output(12)"
   ]
  },
  {
   "cell_type": "code",
   "execution_count": 3,
   "metadata": {
    "collapsed": true
   },
   "outputs": [],
   "source": [
    "def prediction_2_sementic(mask, class_ids, scores):\n",
    "    \"\"\" convert maskrcnn prediction to 1 single sementic mask\n",
    "    \"\"\"\n",
    "    mask_map = {} # create a probability dict for each class\n",
    "    for index, label in enumerate(class_ids):\n",
    "        mask_map[str(label)] = np.maximum(mask_map[str(label)], scores[index] * mask[:, :, index])\\\n",
    "        if str(label) in mask_map.keys() else scores[index] * mask[:, :, index]\n",
    "    \n",
    "    ## convert to h * w * num_classes probability map\n",
    "    h, w, d = mask.shape\n",
    "    for i in range(4):\n",
    "        try:\n",
    "            sementic_mask = np.concatenate((sementic_mask, np.expand_dims(mask_map[str(i)], axis = -1)),axis = -1)\\\n",
    "            if (i != 0) else np.expand_dims(mask_map[str(i)], axis = -1)\n",
    "        except KeyError:\n",
    "            sementic_mask = np.concatenate((np.zeros((h, w, 1)), mask_map[str(i)]),axis = -1)\\\n",
    "            if (i != 0) else np.zeros((h, w, 1))\n",
    "            \n",
    "    sementic_mask_res = np.argmax(sementic_mask, axis = -1)\n",
    "    return sementic_mask_res\n"
   ]
  },
  {
   "cell_type": "code",
   "execution_count": 4,
   "metadata": {
    "collapsed": true
   },
   "outputs": [],
   "source": [
    "mask = prediction_2_sementic(mask, class_ids, scores)\n",
    "mask_decode = data.convert_mat_annotations_to_png(mask)\n",
    "data.show_ann_png(mask_decode)"
   ]
  },
  {
   "cell_type": "code",
   "execution_count": 6,
   "metadata": {},
   "outputs": [],
   "source": [
    "from sklearn.metrics import confusion_matrix\n",
    "temp = confusion_matrix(np.ravel(mask), np.ravel(mask))"
   ]
  },
  {
   "cell_type": "code",
   "execution_count": 9,
   "metadata": {},
   "outputs": [
    {
     "name": "stdout",
     "output_type": "stream",
     "text": [
      "[[1254292       0       0       0]\n",
      " [      0   71752       0       0]\n",
      " [      0       0   11678       0]\n",
      " [      0       0       0  759430]]\n",
      "[[627146      0      0      0]\n",
      " [     0  35876      0      0]\n",
      " [     0      0   5839      0]\n",
      " [     0      0      0 379715]]\n"
     ]
    }
   ],
   "source": [
    "print(temp + temp)\n",
    "print(temp)"
   ]
  },
  {
   "cell_type": "code",
   "execution_count": 10,
   "metadata": {},
   "outputs": [
    {
     "name": "stdout",
     "output_type": "stream",
     "text": [
      "1.0\n"
     ]
    }
   ],
   "source": [
    "i = 0\n",
    "PA = temp[i, i] / (sum(temp[i, :]) + sum(temp[:, i]) - temp[i, i])\n",
    "print(PA)"
   ]
  },
  {
   "cell_type": "code",
   "execution_count": 11,
   "metadata": {
    "collapsed": true
   },
   "outputs": [],
   "source": [
    "def compute_mIOU(c_matrix):\n",
    "    \"\"\" compute the mIOU based on the confusion matrix\n",
    "    \"\"\"\n",
    "    num_class, _ = c_matrix.shape\n",
    "    IOU = []\n",
    "    for i in range(num_class):\n",
    "        p = c_matrix[i, i] / (sum(c_matrix[i, :]) + sum(c_matrix[:, i]) - c_matrix[i, i])\n",
    "        IOU.append(p)\n",
    "    return np.mean(IOU)"
   ]
  },
  {
   "cell_type": "code",
   "execution_count": 12,
   "metadata": {},
   "outputs": [
    {
     "name": "stdout",
     "output_type": "stream",
     "text": [
      "1.0\n"
     ]
    }
   ],
   "source": [
    "print(compute_mIOU(temp))"
   ]
  },
  {
   "cell_type": "code",
   "execution_count": 13,
   "metadata": {},
   "outputs": [
    {
     "name": "stdout",
     "output_type": "stream",
     "text": [
      "(1024, 1024)\n"
     ]
    }
   ],
   "source": [
    "print(mask.shape)"
   ]
  },
  {
   "cell_type": "code",
   "execution_count": 18,
   "metadata": {},
   "outputs": [],
   "source": [
    "orig_mask = data.read_original_ann(12)\n",
    "h, w = mask.shape"
   ]
  },
  {
   "cell_type": "code",
   "execution_count": 19,
   "metadata": {},
   "outputs": [
    {
     "name": "stdout",
     "output_type": "stream",
     "text": [
      "0.118820004702\n"
     ]
    }
   ],
   "source": [
    "orig_mask_crop = orig_mask[0:h, 0:w]\n",
    "temp = confusion_matrix(np.ravel(orig_mask_crop), np.ravel(mask))\n",
    "print(compute_mIOU(temp))"
   ]
  },
  {
   "cell_type": "code",
   "execution_count": null,
   "metadata": {
    "collapsed": true
   },
   "outputs": [],
   "source": []
  }
 ],
 "metadata": {
  "kernelspec": {
   "display_name": "Python 3",
   "language": "python",
   "name": "python3"
  },
  "language_info": {
   "codemirror_mode": {
    "name": "ipython",
    "version": 3
   },
   "file_extension": ".py",
   "mimetype": "text/x-python",
   "name": "python",
   "nbconvert_exporter": "python",
   "pygments_lexer": "ipython3",
   "version": "3.6.1"
  }
 },
 "nbformat": 4,
 "nbformat_minor": 2
}
