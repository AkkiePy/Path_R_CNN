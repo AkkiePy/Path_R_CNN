{
 "cells": [
  {
   "cell_type": "code",
   "execution_count": null,
   "metadata": {},
   "outputs": [],
   "source": [
    "\"\"\"This ipynb helps convert the instance prediction to semantic prediction\"\"\""
   ]
  },
  {
   "cell_type": "code",
   "execution_count": null,
   "metadata": {},
   "outputs": [],
   "source": [
    "import os\n",
    "import numpy as np\n",
    "from prostate_dataset import ProstateDataset\n",
    "\n",
    "data_path = '/data/wenyuan/Path_R_CNN/Data_Pre_Processing'\n",
    "dirname = os.path.join(data_path, 'cedars-224')\n",
    "data = ProstateDataset(dirname)"
   ]
  },
  {
   "cell_type": "code",
   "execution_count": null,
   "metadata": {},
   "outputs": [],
   "source": [
    "_, mask, class_ids, scores = data.read_mask_rcnn_output(12)"
   ]
  },
  {
   "cell_type": "code",
   "execution_count": null,
   "metadata": {},
   "outputs": [],
   "source": [
    "def prediction_2_sementic(mask, class_ids, scores):\n",
    "    \"\"\" convert maskrcnn prediction to 1 single sementic mask\n",
    "    \"\"\"\n",
    "    mask_map = {} # create a probability dict for each class\n",
    "    for index, label in enumerate(class_ids):\n",
    "        mask_map[str(label)] = np.maximum(mask_map[str(label)], scores[index] * mask[:, :, index])\\\n",
    "        if str(label) in mask_map.keys() else scores[index] * mask[:, :, index]\n",
    "    \n",
    "    ## convert to h * w * num_classes probability map\n",
    "    h, w, d = mask.shape\n",
    "    for i in range(4):\n",
    "        try:\n",
    "            sementic_mask = np.concatenate((sementic_mask, np.expand_dims(mask_map[str(i)], axis = -1)),axis = -1)\\\n",
    "            if (i != 0) else np.expand_dims(mask_map[str(i)], axis = -1)\n",
    "        except KeyError:\n",
    "            sementic_mask = np.concatenate((np.zeros((h, w, 1)), mask_map[str(i)]),axis = -1)\\\n",
    "            if (i != 0) else np.zeros((h, w, 1))\n",
    "            \n",
    "    sementic_mask_res = np.argmax(sementic_mask, axis = -1)\n",
    "    return sementic_mask_res\n"
   ]
  },
  {
   "cell_type": "code",
   "execution_count": null,
   "metadata": {},
   "outputs": [],
   "source": [
    "mask = prediction_2_sementic(mask, class_ids, scores)\n",
    "mask_decode = data.convert_mat_annotations_to_png(mask)\n",
    "data.show_ann_png(mask_decode)"
   ]
  }
 ],
 "metadata": {
  "kernelspec": {
   "display_name": "Python 3",
   "language": "python",
   "name": "python3"
  },
  "language_info": {
   "codemirror_mode": {
    "name": "ipython",
    "version": 3
   },
   "file_extension": ".py",
   "mimetype": "text/x-python",
   "name": "python",
   "nbconvert_exporter": "python",
   "pygments_lexer": "ipython3",
   "version": "3.6.5"
  }
 },
 "nbformat": 4,
 "nbformat_minor": 2
}
