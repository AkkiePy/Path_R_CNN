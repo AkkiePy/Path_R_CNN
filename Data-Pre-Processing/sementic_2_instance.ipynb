{
 "cells": [
  {
   "cell_type": "code",
   "execution_count": 33,
   "metadata": {
    "collapsed": true
   },
   "outputs": [],
   "source": [
    "import numpy as np\n",
    "from PIL import Image\n",
    "import os\n",
    "import scipy.io"
   ]
  },
  {
   "cell_type": "code",
   "execution_count": 2,
   "metadata": {
    "collapsed": true
   },
   "outputs": [],
   "source": [
    "def read_mat(mat_file_name):\n",
    "    import scipy.io\n",
    "    import skimage.io as io\n",
    "    key = 'ATmask'\n",
    "    mat = scipy.io.loadmat(mat_file_name, mat_dtype=True, squeeze_me=True, struct_as_record=False)\n",
    "    return mat[key];"
   ]
  },
  {
   "cell_type": "code",
   "execution_count": 3,
   "metadata": {
    "collapsed": true
   },
   "outputs": [],
   "source": [
    "def convert_mat_annotations_to_png(mat_file_name):\n",
    "    \"\"\" convert mat annotation file to png image \n",
    "    \n",
    "    Parameters\n",
    "    ----------\n",
    "    masks_file_name\n",
    "        Path to the matfile.\n",
    "    \n",
    "    \"\"\"\n",
    "    \n",
    "    import scipy.io\n",
    "    \n",
    "    import skimage.io as io\n",
    "    label_colours = [(128, 0, 0), (0, 128,0), (0, 0, 128), (128, 128, 0)]\n",
    "    \n",
    "    key = 'ATmask'\n",
    "    \n",
    "    mat = scipy.io.loadmat(mat_file_name, mat_dtype=True, squeeze_me=True, struct_as_record=False)\n",
    "    h,w = mat[key].shape\n",
    "\n",
    "    outputs = np.zeros((h,w,3), dtype = np.uint8)\n",
    "    num_classes = 5\n",
    "\n",
    "    img = Image.new('RGB', (h, w))\n",
    "    pixels = img.load()\n",
    "    for j_, j in enumerate(mat[key]):\n",
    "        for k_, k in enumerate(j):\n",
    "            if k < num_classes:\n",
    "                pixels[k_,j_] = label_colours[int(k-1)]\n",
    "    outputs = np.array(img)\n",
    "    return outputs"
   ]
  },
  {
   "cell_type": "code",
   "execution_count": 4,
   "metadata": {
    "collapsed": true
   },
   "outputs": [],
   "source": [
    "def convert_segmentation_array_to_png(mask, class_id):\n",
    "    \"\"\" convert mat annotation file to png image \n",
    "    \n",
    "    Parameters\n",
    "    ----------\n",
    "    masks_file_name\n",
    "        Path to the matfile.\n",
    "    \n",
    "    \"\"\"\n",
    "    mask = np.transpose(mask)\n",
    "    import scipy.io\n",
    "    \n",
    "    import skimage.io as io\n",
    "    label_colours = [(128, 0, 0), (0, 128,0), (0, 0, 128), (128, 128, 0)]\n",
    "    \n",
    "    h,w = mask.shape\n",
    "\n",
    "    outputs = np.zeros((h,w,3), dtype = np.uint8)\n",
    "    num_classes = 4\n",
    "\n",
    "    img = Image.new('RGB', (h, w))\n",
    "    pixels = img.load()\n",
    "    for j_, j in enumerate(mask):\n",
    "        for k_, k in enumerate(j):\n",
    "            if k == 1:\n",
    "                pixels[j_,k_] = label_colours[int(class_id - 1)]\n",
    "    outputs = np.array(img)\n",
    "    return outputs"
   ]
  },
  {
   "cell_type": "code",
   "execution_count": 5,
   "metadata": {
    "collapsed": true
   },
   "outputs": [],
   "source": [
    "def convert_array_to_png(mat):\n",
    "    \"\"\" convert mat annotation file to png image \n",
    "    \n",
    "    Parameters\n",
    "    ----------\n",
    "    masks_file_name\n",
    "        Path to the matfile.\n",
    "    \n",
    "    \"\"\"\n",
    "    mat = np.transpose(mat)\n",
    "    import scipy.io\n",
    "    \n",
    "    import skimage.io as io\n",
    "    label_colours = [(128, 0, 0), (0, 128,0), (0, 0, 128), (128, 128, 0)]\n",
    "    \n",
    "    h,w = mat.shape\n",
    "\n",
    "    outputs = np.zeros((h,w,3), dtype = np.uint8)\n",
    "    num_classes = 4\n",
    "\n",
    "    img = Image.new('RGB', (h, w))\n",
    "    pixels = img.load()\n",
    "    for j_, j in enumerate(mat):\n",
    "        for k_, k in enumerate(j):\n",
    "            if k <= num_classes:\n",
    "                pixels[j_,k_] = label_colours[int(k-1)]\n",
    "    outputs = np.array(img)\n",
    "    return outputs\n",
    "    "
   ]
  },
  {
   "cell_type": "code",
   "execution_count": 6,
   "metadata": {
    "collapsed": true
   },
   "outputs": [],
   "source": [
    "class Unionfind:\n",
    "    \n",
    "    def __init__(self, n, mask):\n",
    "        self.father = np.arange(n)\n",
    "    \n",
    "    def _find(self, x):\n",
    "        if self.father[x] == x: \n",
    "            return x\n",
    "        self.father[x] = self._find(self.father[x])\n",
    "        return self.father[x]\n",
    "    \n",
    "    def connect(self, a, b):\n",
    "        root_a = self._find(a)\n",
    "        root_b = self._find(b)\n",
    "        if (root_a != root_b):\n",
    "            self.father[root_b] = root_a\n",
    "            \n",
    "    def set_father(self, pos, val):\n",
    "        self.father[pos] = val\n",
    "    \n"
   ]
  },
  {
   "cell_type": "code",
   "execution_count": 39,
   "metadata": {
    "collapsed": true
   },
   "outputs": [],
   "source": [
    "mat_file_name = './cedars-224/masks/0000.mat'\n",
    "matfile = read_mat(mat_file_name)"
   ]
  },
  {
   "cell_type": "code",
   "execution_count": 40,
   "metadata": {
    "collapsed": true
   },
   "outputs": [],
   "source": [
    "# class_id = 4\n",
    "# mask = (matfile == class_id)\n",
    "# mask = mask.astype(int)\n",
    "# outputs = convert_segmentation_array_to_png(mask, class_id)\n",
    "# im = Image.fromarray(outputs)\n",
    "# im.show()"
   ]
  },
  {
   "cell_type": "code",
   "execution_count": 41,
   "metadata": {
    "collapsed": true
   },
   "outputs": [],
   "source": [
    "outputs = convert_mat_annotations_to_png(mat_file_name)\n",
    "im = Image.fromarray(outputs)\n",
    "im.show()"
   ]
  },
  {
   "cell_type": "code",
   "execution_count": 42,
   "metadata": {},
   "outputs": [
    {
     "name": "stdout",
     "output_type": "stream",
     "text": [
      "[     -1    7854   10274  336133  457428 1102555]\n"
     ]
    }
   ],
   "source": [
    "mask = matfile.astype(int)\n",
    "r, c = mask.shape\n",
    "my_union = Unionfind(r * c, mask.reshape(-1))\n",
    "\n",
    "dr = [0, 1, -1, 0] # right, down, up, left\n",
    "dc = [1, 0, 0, -1]\n",
    "old = np.ones(r * c)\n",
    "while(not np.array_equal(my_union.father,old)):   \n",
    "    old = np.copy(my_union.father)\n",
    "    for i in range(r):\n",
    "        for j in range(c):\n",
    "            if(mask[i, j] == 4):\n",
    "                my_union.set_father(i * c + j, -1)\n",
    "            else:\n",
    "                for k in range(4):\n",
    "                    if (i + dr[k] >= 0 and i + dr[k] < r and\n",
    "                       j + dc[k] >= 0 and j + dc[k] < c and mask[i + dr[k], j + dc[k]] == mask[i, j]):\n",
    "                        my_union.connect(i * c + j, (i + dr[k]) * c + j + dc[k])\n",
    "print(np.unique(my_union.father))"
   ]
  },
  {
   "cell_type": "code",
   "execution_count": 43,
   "metadata": {},
   "outputs": [
    {
     "name": "stdout",
     "output_type": "stream",
     "text": [
      "6 [     -1    7854   10274  336133  457428 1102555]\n"
     ]
    }
   ],
   "source": [
    "res = my_union.father.reshape((r, c))\n",
    "print(len(np.unique(res)), np.unique(res))\n",
    "# seg = (res == 1102555).astype(int)\n",
    "# outputs = convert_segmentation_array_to_png(seg, 0)\n",
    "# im = Image.fromarray(outputs)\n",
    "# im.show()"
   ]
  },
  {
   "cell_type": "code",
   "execution_count": 44,
   "metadata": {
    "collapsed": true
   },
   "outputs": [],
   "source": [
    "unique_set = np.copy(np.unique(res))\n",
    "# unique_len = len(unique_set)\n",
    "# print()\n",
    "# for i in range(unique_len):\n",
    "#     index = np.argwhere(res == unique_set[i])\n",
    "#     for ind in index:\n",
    "#         res[ind[0], ind[1]] = i\n",
    "\n",
    "class_ids = []\n",
    "hash_dict = {'4': 0, '1':1, '2':2, '3':3}\n",
    "for index, val in enumerate(unique_set):\n",
    "    if index == 0:\n",
    "        stack = (res == val).astype(int)\n",
    "    else:\n",
    "        stack = np.dstack((stack, (res == val).astype(int)))\n",
    "    pos = np.argwhere(res == val)[0]\n",
    "    class_ids.append(hash_dict[str(mask[pos[0], pos[1]])])\n",
    "        \n"
   ]
  },
  {
   "cell_type": "code",
   "execution_count": 45,
   "metadata": {},
   "outputs": [
    {
     "name": "stdout",
     "output_type": "stream",
     "text": [
      "(1201, 1201, 6)\n",
      "[0, 3, 3, 1, 1, 3]\n"
     ]
    }
   ],
   "source": [
    "print(stack.shape)\n",
    "print(class_ids)"
   ]
  },
  {
   "cell_type": "code",
   "execution_count": 46,
   "metadata": {
    "collapsed": true
   },
   "outputs": [],
   "source": [
    "# save to mat file\n",
    "res_dict = {'segmentation': stack, 'class_ids': class_ids}\n",
    "scipy.io.savemat('./cedars-224/masks/0000_instance.mat', res_dict)"
   ]
  },
  {
   "cell_type": "code",
   "execution_count": 47,
   "metadata": {},
   "outputs": [
    {
     "name": "stdout",
     "output_type": "stream",
     "text": [
      "(1201, 1201, 6) [0 3 3 1 1 3]\n"
     ]
    }
   ],
   "source": [
    "instance = scipy.io.loadmat('./cedars-224/masks/0000_instance.mat', \n",
    "                            mat_dtype=True, squeeze_me=True, struct_as_record=False)\n",
    "print(instance['segmentation'].shape, instance['class_ids'])"
   ]
  },
  {
   "cell_type": "code",
   "execution_count": 31,
   "metadata": {
    "collapsed": true
   },
   "outputs": [],
   "source": [
    "# visualize the segementation results\n",
    "# for i in range(len(class_ids)):\n",
    "#     outputs = convert_segmentation_array_to_png(stack[:,:,i], class_ids[i])\n",
    "#     im = Image.fromarray(outputs)\n",
    "#     im.show()"
   ]
  },
  {
   "cell_type": "code",
   "execution_count": null,
   "metadata": {
    "collapsed": true
   },
   "outputs": [],
   "source": [
    "# # make a list of the class\n",
    "# # to do adjust class number\n",
    "# class_id = []\n",
    "# for i in range(unique_len):\n",
    "#     index = np.argwhere(res == i)[0]\n",
    "#     class_id.append(mask[index[0], index[1]])\n",
    "# print(class_id)"
   ]
  },
  {
   "cell_type": "code",
   "execution_count": null,
   "metadata": {
    "collapsed": true
   },
   "outputs": [],
   "source": [
    "# seg = (res == 3).astype(int)\n",
    "# outputs = convert_segmentation_array_to_png(seg, 0)\n",
    "# im = Image.fromarray(outputs)\n",
    "# im.show()"
   ]
  }
 ],
 "metadata": {
  "anaconda-cloud": {},
  "kernelspec": {
   "display_name": "Python 3",
   "language": "python",
   "name": "python3"
  },
  "language_info": {
   "codemirror_mode": {
    "name": "ipython",
    "version": 3
   },
   "file_extension": ".py",
   "mimetype": "text/x-python",
   "name": "python",
   "nbconvert_exporter": "python",
   "pygments_lexer": "ipython3",
   "version": "3.5.3"
  }
 },
 "nbformat": 4,
 "nbformat_minor": 2
}
