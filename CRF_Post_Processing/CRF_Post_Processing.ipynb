{
 "cells": [
  {
   "cell_type": "markdown",
   "metadata": {},
   "source": [
    "## Import Module"
   ]
  },
  {
   "cell_type": "code",
   "execution_count": null,
   "metadata": {},
   "outputs": [],
   "source": [
    "import os\n",
    "import skimage.io as io\n",
    "import sys\n",
    "import numpy as np\n",
    "import warnings\n",
    "warnings.filterwarnings('ignore')\n",
    "\n",
    "Module_path = os.path.join(os.path.dirname(os.getcwd()), 'Mask_RCNN')\n",
    "sys.path.append(Module_path)"
   ]
  },
  {
   "cell_type": "code",
   "execution_count": null,
   "metadata": {},
   "outputs": [],
   "source": [
    "from config import Config\n",
    "import utils\n",
    "import model as modellib\n",
    "import visualize\n",
    "from model import log\n",
    "import prostate\n",
    "import visualize\n",
    "import pydensecrf.densecrf as dcrf\n",
    "from pydensecrf.utils import compute_unary, create_pairwise_bilateral, \\\n",
    "     create_pairwise_gaussian, softmax_to_unary"
   ]
  },
  {
   "cell_type": "markdown",
   "metadata": {},
   "source": [
    "## Configurations"
   ]
  },
  {
   "cell_type": "code",
   "execution_count": null,
   "metadata": {},
   "outputs": [],
   "source": [
    "# Specify the dir that store the prostate dataset\n",
    "dataset_dir = os.path.join(os.path.dirname(os.getcwd()), \"Data_Pre_Processing/cedars-224\")\n",
    "# We do 5-fold validation, specify which fold to be exclude for the current run\n",
    "held_out_set = 4\n",
    "# Featch the mean_pixel based on the training data (data exclude the held_out_set)\n",
    "mean_pixel = prostate.Mean_pixel(dataset_dir, held_out_set)\n",
    "# Configuration\n",
    "class PostProcessingConfig(prostate.ProstateConfig):\n",
    "    IMAGE_MAX_DIM = 1024\n",
    "    IMAGE_MIN_DIM = 1024\n",
    "    MODE = -1\n",
    "postprocessing_config = PostProcessingConfig()\n",
    "postprocessing_config.display()"
   ]
  },
  {
   "cell_type": "markdown",
   "metadata": {},
   "source": [
    "## Prepare the Dataset and Specify the Interested Image"
   ]
  },
  {
   "cell_type": "code",
   "execution_count": null,
   "metadata": {},
   "outputs": [],
   "source": [
    "Image_list = [207]\n",
    "dataset = prostate.ProstateDataset()\n",
    "dataset.load_prostate(dataset_dir, Image_list, mode = postprocessing_config.MODE)\n",
    "dataset.prepare()"
   ]
  },
  {
   "cell_type": "markdown",
   "metadata": {},
   "source": [
    "## Load Image, Ground Truth Mask and Probability Map"
   ]
  },
  {
   "cell_type": "code",
   "execution_count": null,
   "metadata": {},
   "outputs": [],
   "source": [
    "image, image_meta, gt_class_id, gt_bbox, gt_mask =\\\n",
    "        modellib.load_image_gt(dataset, postprocessing_config,\n",
    "                               0, use_mini_mask=False)\n",
    "gt_sementic_mask = utils.instance_2_sementic(gt_mask, gt_class_id)\n",
    "gt_sementic_mask = gt_sementic_mask['ATmask']\n",
    "prob = dataset.load_prob_map(0)"
   ]
  },
  {
   "cell_type": "code",
   "execution_count": null,
   "metadata": {},
   "outputs": [],
   "source": [
    "# change the prob (0, 0, 0, 0) item to (1, 0, 0 ,0)\n",
    "index_0, index_1 = np.where((prob == (0, 0, 0, 0)).all(axis = 2))\n",
    "prob[index_0, index_1, :] = (0.99, 0.0003, 0.0003, 0.0003)"
   ]
  },
  {
   "cell_type": "markdown",
   "metadata": {},
   "source": [
    "## Conditional Random Field"
   ]
  },
  {
   "cell_type": "code",
   "execution_count": null,
   "metadata": {},
   "outputs": [],
   "source": [
    "# move the probability axis to assure that the first dimension is the class dimension\n",
    "prob_move = np.moveaxis(prob, 2, 0)\n",
    "# The input should be the negative of the logarithm of probability values\n",
    "# Look up the definition of the softmax_to_unary for more information\n",
    "unary = softmax_to_unary(prob_move)\n",
    "# The inputs should be C-continious -- we are using Cython wrapper\n",
    "unary = np.ascontiguousarray(unary)"
   ]
  },
  {
   "cell_type": "code",
   "execution_count": null,
   "metadata": {},
   "outputs": [],
   "source": [
    "d = dcrf.DenseCRF(image.shape[0] * image.shape[1], 4)\n",
    "d.setUnaryEnergy(unary)"
   ]
  },
  {
   "cell_type": "code",
   "execution_count": null,
   "metadata": {},
   "outputs": [],
   "source": [
    "# This potential penalizes small pieces of segmentation that are\n",
    "# spatially isolated -- enforces more spatially consistent segmentations\n",
    "feats = create_pairwise_gaussian(sdims=(10, 10), shape=image.shape[:2])\n",
    "d.addPairwiseEnergy(feats, compat=3,\n",
    "                    kernel=dcrf.DIAG_KERNEL,\n",
    "                    normalization=dcrf.NORMALIZE_SYMMETRIC)"
   ]
  },
  {
   "cell_type": "code",
   "execution_count": null,
   "metadata": {},
   "outputs": [],
   "source": [
    "# This creates the color-dependent features --\n",
    "# because the segmentation that we get from CNN are too coarse\n",
    "# and we can use local color features to refine them\n",
    "feats = create_pairwise_bilateral(sdims=(50, 50), schan=(20, 20, 20),\n",
    "                                   img=image, chdim=2)\n",
    "d.addPairwiseEnergy(feats, compat=10,\n",
    "                     kernel=dcrf.DIAG_KERNEL,\n",
    "                     normalization=dcrf.NORMALIZE_SYMMETRIC)"
   ]
  },
  {
   "cell_type": "code",
   "execution_count": null,
   "metadata": {},
   "outputs": [],
   "source": [
    "Q = d.inference(5)\n",
    "res = np.argmax(Q, axis=0).reshape((image.shape[0], image.shape[1]))"
   ]
  },
  {
   "cell_type": "markdown",
   "metadata": {},
   "source": [
    "## Visualization"
   ]
  },
  {
   "cell_type": "code",
   "execution_count": null,
   "metadata": {},
   "outputs": [],
   "source": [
    "# Visualization the sementic map\n",
    "visualize.display_sementic(image, gt_sementic_mask,\n",
    "                            figsize=(8, 8))\n",
    "visualize.display_sementic(image, np.argmax(prob, axis = -1),\n",
    "                            figsize=(8, 8))\n",
    "visualize.display_sementic(image, res,\n",
    "                            figsize=(8, 8))"
   ]
  }
 ],
 "metadata": {
  "kernelspec": {
   "display_name": "Python 3",
   "language": "python",
   "name": "python3"
  },
  "language_info": {
   "codemirror_mode": {
    "name": "ipython",
    "version": 3
   },
   "file_extension": ".py",
   "mimetype": "text/x-python",
   "name": "python",
   "nbconvert_exporter": "python",
   "pygments_lexer": "ipython3",
   "version": "3.6.5"
  }
 },
 "nbformat": 4,
 "nbformat_minor": 2
}
