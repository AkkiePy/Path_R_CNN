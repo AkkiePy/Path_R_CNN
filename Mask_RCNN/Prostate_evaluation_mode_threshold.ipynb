{
 "cells": [
  {
   "cell_type": "markdown",
   "metadata": {},
   "source": [
    "# Mask R-CNN - Evaluation on Prostate Dataset\n",
    "\n",
    "\n",
    "This notebook shows how to use trained Mask R-CNN on prostate dataset for evaluation. As for large pathology image, we crop each image to several patches. This notebook is designed to get the detection reulst for single patch and evaluate them use mIOU. You'd need a GPU, though, because the network backbone is a Resnet101, which would be slow to detect on a CPU.\n",
    "\n",
    "The code of the Prostate dataset can be found in prostate.py."
   ]
  },
  {
   "cell_type": "markdown",
   "metadata": {},
   "source": [
    "## Import Module"
   ]
  },
  {
   "cell_type": "code",
   "execution_count": 1,
   "metadata": {
    "collapsed": true
   },
   "outputs": [],
   "source": [
    "# import module from system lib\n",
    "import os\n",
    "import sys\n",
    "import random\n",
    "import math\n",
    "import re\n",
    "import time\n",
    "import numpy as np\n",
    "import cv2\n",
    "import matplotlib\n",
    "import matplotlib.pyplot as plt\n",
    "from sklearn.metrics import confusion_matrix\n",
    "import scipy.io"
   ]
  },
  {
   "cell_type": "code",
   "execution_count": 2,
   "metadata": {},
   "outputs": [
    {
     "name": "stderr",
     "output_type": "stream",
     "text": [
      "Using TensorFlow backend.\n"
     ]
    }
   ],
   "source": [
    "# import module from maskrcnn repo\n",
    "from config import Config\n",
    "import utils\n",
    "import model as modellib\n",
    "import visualize\n",
    "from model import log\n",
    "import prostate\n",
    "\n",
    "%matplotlib inline\n",
    "\n",
    "# Specify GPU to use\n",
    "os.environ[\"CUDA_DEVICE_ORDER\"]=\"PCI_BUS_ID\"   # see issue #152\n",
    "os.environ[\"CUDA_VISIBLE_DEVICES\"]=\"3\"\n",
    "\n",
    "# Root directory of the project\n",
    "ROOT_DIR = os.getcwd()\n",
    "\n",
    "# Directory to save logs and trained model\n",
    "MODEL_DIR = os.path.join(ROOT_DIR, \"logs\")"
   ]
  },
  {
   "cell_type": "markdown",
   "metadata": {},
   "source": [
    "## Configurations"
   ]
  },
  {
   "cell_type": "code",
   "execution_count": 3,
   "metadata": {},
   "outputs": [
    {
     "name": "stdout",
     "output_type": "stream",
     "text": [
      "\n",
      "Configurations:\n",
      "BACKBONE_SHAPES                [[128 128]\n",
      " [ 64  64]\n",
      " [ 32  32]\n",
      " [ 16  16]\n",
      " [  8   8]]\n",
      "BACKBONE_STRIDES               [4, 8, 16, 32, 64]\n",
      "BATCH_SIZE                     1\n",
      "BBOX_STD_DEV                   [ 0.1  0.1  0.2  0.2]\n",
      "DETECTION_CROP                 [128, 384, 128, 384]\n",
      "DETECTION_MAX_INSTANCES        100\n",
      "DETECTION_MIN_CONFIDENCE       0.5\n",
      "DETECTION_NMS_THRESHOLD        1\n",
      "GPU_COUNT                      1\n",
      "IMAGES_PER_GPU                 1\n",
      "IMAGE_MAX_DIM                  512\n",
      "IMAGE_MIN_DIM                  512\n",
      "IMAGE_PADDING                  True\n",
      "IMAGE_SHAPE                    [512 512   3]\n",
      "LEARNING_MOMENTUM              0.9\n",
      "LEARNING_RATE                  0.001\n",
      "MASK_POOL_SIZE                 14\n",
      "MASK_SHAPE                     [28, 28]\n",
      "MAX_GT_INSTANCES               100\n",
      "MEAN_PIXEL                     [ 193.97800579  120.89113632  183.79060979]\n",
      "MINI_MASK_SHAPE                (56, 56)\n",
      "MODE                           16\n",
      "NAME                           prostate\n",
      "NUM_CLASSES                    4\n",
      "POOL_SIZE                      7\n",
      "POST_NMS_ROIS_INFERENCE        1000\n",
      "POST_NMS_ROIS_TRAINING         2000\n",
      "ROI_POSITIVE_RATIO             0.33\n",
      "RPN_ANCHOR_RATIOS              [0.5, 1, 2]\n",
      "RPN_ANCHOR_SCALES              (32, 64, 128, 256, 512)\n",
      "RPN_ANCHOR_STRIDE              1\n",
      "RPN_BBOX_STD_DEV               [ 0.1  0.1  0.2  0.2]\n",
      "RPN_NMS_THRESHOLD              0.7\n",
      "RPN_TRAIN_ANCHORS_PER_IMAGE    256\n",
      "STEPS_PER_EPOCH                1000\n",
      "TRAIN_ROIS_PER_IMAGE           200\n",
      "USE_MINI_MASK                  True\n",
      "USE_RPN_ROIS                   True\n",
      "USE_TUMORCLASS                 True\n",
      "VALIDATION_STEPS               50\n",
      "WEIGHT_DECAY                   0.0001\n",
      "\n",
      "\n"
     ]
    }
   ],
   "source": [
    "# Specify the dir that store the prostate dataset\n",
    "dataset_dir = os.path.join(os.path.dirname(os.getcwd()), \"Data_Pre_Processing/cedars-224\")\n",
    "# We do 5-fold validation, specify which fold to be exclude for the current run\n",
    "held_out_set = 4\n",
    "# Featch the mean_pixel based on the training data (data exclude the held_out_set)\n",
    "mean_pixel = prostate.Mean_pixel(dataset_dir, held_out_set)\n",
    "# Configuration\n",
    "class EvaluationConfig(prostate.ProstateConfig):\n",
    "    GPU_COUNT = 1\n",
    "    IMAGES_PER_GPU = 1\n",
    "    DETECTION_MIN_CONFIDENCE = 0.5\n",
    "    DETECTION_NMS_THRESHOLD = 1     \n",
    "    MEAN_PIXEL = np.array(mean_pixel)\n",
    "    IMAGE_MAX_DIM = 512\n",
    "    IMAGE_MIN_DIM = 512\n",
    "    DETECTION_CROP = [128, 384, 128, 384] # [height_crop_start, height_crop_end, width_crop_start, width_crop_end]\n",
    "    MODE = 16\n",
    "evaluation_config = EvaluationConfig()\n",
    "evaluation_config.display()"
   ]
  },
  {
   "cell_type": "markdown",
   "metadata": {},
   "source": [
    "## Create Model Graph and Loading Weights"
   ]
  },
  {
   "cell_type": "code",
   "execution_count": 4,
   "metadata": {},
   "outputs": [
    {
     "name": "stdout",
     "output_type": "stream",
     "text": [
      "Loading weights from  /scratch/wenyuan/Mask_RCNN_On_Pathology/Mask_RCNN/logs/prostate20180223T1554-held-out-4/mask_rcnn_prostate_0071.h5\n"
     ]
    }
   ],
   "source": [
    "# Recreate the model in inference mode\n",
    "model = modellib.MaskRCNN(mode=\"detection\", \n",
    "                          config=evaluation_config,\n",
    "                          model_dir=MODEL_DIR)\n",
    "# Get path to saved weights\n",
    "# Either set a specific path, find a trained weights specified by epoch and held_out_set or find last trained weights\n",
    "h5_filename = None # Specify the h5 filename here if you want to choose a specific file\n",
    "epoch = -1\n",
    "\n",
    "if h5_filename is not None:\n",
    "    model_path = os.path.join(ROOT_DIR, \".h5 file name here\")\n",
    "elif epoch == -1:    \n",
    "    model_path = model.find_last()[1]\n",
    "else:\n",
    "    try:\n",
    "        model_path = model.find_specific(epoch = epoch, held_out_set = held_out_set)[1]\n",
    "    except:\n",
    "        model_path = model.find_specific(epoch = epoch)[1]\n",
    "\n",
    "# Load trained weights (fill in path to trained weights here)\n",
    "assert model_path != \"\", \"Provide path to trained weights\"\n",
    "print(\"Loading weights from \", model_path)\n",
    "model.load_weights(model_path, by_name=True)"
   ]
  },
  {
   "cell_type": "markdown",
   "metadata": {},
   "source": [
    "## Prepare the Dataset"
   ]
  },
  {
   "cell_type": "code",
   "execution_count": 5,
   "metadata": {
    "collapsed": true
   },
   "outputs": [],
   "source": [
    "dataset_val = prostate.ProstateDataset()\n",
    "_, val_list = dataset_val.generator_patition(dataset_dir, held_out_set)\n",
    "# val_list = [image for image in val_list if image not in exclude_list]\n",
    "dataset_val.load_prostate(dataset_dir, val_list, mode = 16)\n",
    "dataset_val.prepare()"
   ]
  },
  {
   "cell_type": "markdown",
   "metadata": {},
   "source": [
    "## Run Evaluation"
   ]
  },
  {
   "cell_type": "code",
   "execution_count": null,
   "metadata": {},
   "outputs": [
    {
     "name": "stdout",
     "output_type": "stream",
     "text": [
      "Number of image is: 185\n",
      "mIOU:  0.309812564818 IOU: [0.3567275054254076, 0, 0.88236172973449944, 0.00016102411336097581]\n",
      "Number of image is: 7\n",
      "mIOU:  0.207182060755 IOU: [0.12302101643555098, 0, 0.70570722658499863, 0]\n",
      "Number of image is: 406\n",
      "mIOU:  0.390507991118 IOU: [0.37746318724853622, 0.15613358169238956, 0.55401198955241104, 0.47442320597968202]\n",
      "Number of image is: 196\n",
      "mIOU:  0.226583410432 IOU: [0.20493004776673535, 0.0, 0.70140359396273266, 0]\n"
     ]
    }
   ],
   "source": [
    "# Initialize the confusion matrix\n",
    "C_MATRIX = np.zeros((4, 4))\n",
    "# Threshold for evaluating the mIOU\n",
    "Threshold = 0.5\n",
    "# Create crop region\n",
    "hv, wv = utils.create_crop_region(evaluation_config) # meshgrid for crop region\n",
    "# Process display setting\n",
    "display_step = 10 # print out process for every display_step images\n",
    "total_image = len(val_list)\n",
    "rc_num = int(math.sqrt(evaluation_config.MODE)) # how many patches in each row or col\n",
    "for image_id in range(0, len(dataset_val.image_ids), 16):\n",
    "    gt_mask_whole = []\n",
    "    det_mask_whole = []\n",
    "    for i in range(evaluation_config.MODE):\n",
    "        # Load image and ground truth data\n",
    "        image, image_meta, gt_class_id, gt_bbox, gt_mask =\\\n",
    "                modellib.load_image_gt(dataset_val, evaluation_config,\n",
    "                                       image_id + i, use_mini_mask=False)\n",
    "        # Convert gt-instance mask to gt-sementic mask\n",
    "        gt_sementic_mask = utils.instance_2_sementic(gt_mask, gt_class_id)\n",
    "        gt_sementic_mask = gt_sementic_mask['ATmask'][hv, wv] # crop the label\n",
    "        gt_mask_whole.append(gt_sementic_mask)\n",
    "        # Run object detection\n",
    "        results = model.detect([image], verbose=0)\n",
    "        # TODO: create a function for evaluation in model\n",
    "        r = results[0]    \n",
    "        if np.argmax(r['tumor_probs']) == 1:\n",
    "            det_sementic_mask = r['sementic_mask']\n",
    "        else:\n",
    "            det_sementic_mask = np.zeros((image.shape[0], image.shape[1]))\n",
    "        det_sementic_mask = det_sementic_mask[hv, wv] # crop the detection\n",
    "        det_mask_whole.append(det_sementic_mask)\n",
    "    ann = utils.combine_2_whole_slide(gt_mask_whole, rc_num, rc_num)\n",
    "    det = utils.combine_2_whole_slide(det_mask_whole, rc_num, rc_num)\n",
    "    # Compute confusion matrix\n",
    "    c_matrix = confusion_matrix(np.ravel(ann), np.ravel(det))\n",
    "    # Expand the c_matrix to NUM_CLASSES * NUM_CLASSES\n",
    "    c_matrix = utils.expand_c_matrix(c_matrix, evaluation_config.NUM_CLASSES, ann, det)    \n",
    "    # Compute whether the IOU is below the threshold\n",
    "    mIOU, IOU, below_th = utils.compute_mIOU(c_matrix, th = Threshold)\n",
    "    if below_th:\n",
    "        print(\"Number of image is:\", val_list[int(image_id / 16)])\n",
    "        print(\"mIOU: \", mIOU, \"IOU:\", IOU)\n",
    "    # Display the process\n",
    "    if ((image_id + 1) % (evaluation_config.MODE * display_step) == 0):\n",
    "        print('Done evaluating %d / %d!\\n'%((image_id + 1) / evaluation_config.MODE, total_image))"
   ]
  }
 ],
 "metadata": {
  "kernelspec": {
   "display_name": "Python 3",
   "language": "python",
   "name": "python3"
  },
  "language_info": {
   "codemirror_mode": {
    "name": "ipython",
    "version": 3
   },
   "file_extension": ".py",
   "mimetype": "text/x-python",
   "name": "python",
   "nbconvert_exporter": "python",
   "pygments_lexer": "ipython3",
   "version": "3.5.3"
  }
 },
 "nbformat": 4,
 "nbformat_minor": 2
}
