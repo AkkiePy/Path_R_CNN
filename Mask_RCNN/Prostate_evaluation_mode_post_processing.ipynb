{
 "cells": [
  {
   "cell_type": "markdown",
   "metadata": {},
   "source": [
    "# Mask R-CNN - Detection on Prostate Dataset\n",
    "\n",
    "\n",
    "This notebook shows how to use trained Mask R-CNN on prostate dataset for a whole tile. As for large pathology image, we crop each image to several patches. This notebook is designed to get the detection reulst for single pic first and combine them back to the whole image. You'd need a GPU, though, because the network backbone is a Resnet101, which would be slow to detect on a CPU.\n",
    "\n",
    "The code of the Prostate dataset can be found in prostate.py."
   ]
  },
  {
   "cell_type": "markdown",
   "metadata": {},
   "source": [
    "## Import Module"
   ]
  },
  {
   "cell_type": "code",
   "execution_count": 1,
   "metadata": {
    "collapsed": true
   },
   "outputs": [],
   "source": [
    "# import module from system lib\n",
    "import os\n",
    "import sys\n",
    "import random\n",
    "import math\n",
    "import re\n",
    "import time\n",
    "import numpy as np\n",
    "import cv2\n",
    "import matplotlib\n",
    "import matplotlib.pyplot as plt\n",
    "from sklearn.metrics import confusion_matrix\n",
    "import scipy.io"
   ]
  },
  {
   "cell_type": "code",
   "execution_count": 42,
   "metadata": {},
   "outputs": [],
   "source": [
    "# import module from maskrcnn repo\n",
    "from config import Config\n",
    "import utils\n",
    "import model as modellib\n",
    "import visualize\n",
    "from model import log\n",
    "import prostate\n",
    "import pydensecrf.densecrf as dcrf\n",
    "from pydensecrf.utils import compute_unary, create_pairwise_bilateral, \\\n",
    "     create_pairwise_gaussian, unary_from_softmax\n",
    "\n",
    "%matplotlib inline\n",
    "\n",
    "# Specify GPU to use\n",
    "os.environ[\"CUDA_DEVICE_ORDER\"]=\"PCI_BUS_ID\"   # see issue #152\n",
    "os.environ[\"CUDA_VISIBLE_DEVICES\"]=\"2\"\n",
    "\n",
    "# Root directory of the project\n",
    "ROOT_DIR = os.getcwd()\n",
    "\n",
    "# Directory to save logs and trained model\n",
    "MODEL_DIR = os.path.join(ROOT_DIR, \"logs\")"
   ]
  },
  {
   "cell_type": "markdown",
   "metadata": {},
   "source": [
    "## Configurations"
   ]
  },
  {
   "cell_type": "code",
   "execution_count": 50,
   "metadata": {},
   "outputs": [
    {
     "name": "stdout",
     "output_type": "stream",
     "text": [
      "\n",
      "Configurations:\n",
      "BACKBONE_SHAPES                [[128 128]\n",
      " [ 64  64]\n",
      " [ 32  32]\n",
      " [ 16  16]\n",
      " [  8   8]]\n",
      "BACKBONE_STRIDES               [4, 8, 16, 32, 64]\n",
      "BATCH_SIZE                     1\n",
      "BBOX_STD_DEV                   [ 0.1  0.1  0.2  0.2]\n",
      "DETECTION_CROP                 [128, 384, 128, 384]\n",
      "DETECTION_MAX_INSTANCES        100\n",
      "DETECTION_MIN_CONFIDENCE       0.5\n",
      "DETECTION_NMS_THRESHOLD        1\n",
      "GPU_COUNT                      1\n",
      "IMAGES_PER_GPU                 1\n",
      "IMAGE_MAX_DIM                  512\n",
      "IMAGE_MIN_DIM                  512\n",
      "IMAGE_PADDING                  True\n",
      "IMAGE_SHAPE                    [512 512   3]\n",
      "LEARNING_MOMENTUM              0.9\n",
      "LEARNING_RATE                  0.001\n",
      "MASK_POOL_SIZE                 14\n",
      "MASK_SHAPE                     [28, 28]\n",
      "MAX_GT_INSTANCES               100\n",
      "MEAN_PIXEL                     [ 193.97800579  120.89113632  183.79060979]\n",
      "MINI_MASK_SHAPE                (56, 56)\n",
      "MODE                           16\n",
      "NAME                           prostate\n",
      "NUM_CLASSES                    4\n",
      "POOL_SIZE                      7\n",
      "POST_NMS_ROIS_INFERENCE        1000\n",
      "POST_NMS_ROIS_TRAINING         2000\n",
      "ROI_POSITIVE_RATIO             0.33\n",
      "RPN_ANCHOR_RATIOS              [0.5, 1, 2]\n",
      "RPN_ANCHOR_SCALES              (32, 64, 128, 256, 512)\n",
      "RPN_ANCHOR_STRIDE              1\n",
      "RPN_BBOX_STD_DEV               [ 0.1  0.1  0.2  0.2]\n",
      "RPN_NMS_THRESHOLD              0.7\n",
      "RPN_TRAIN_ANCHORS_PER_IMAGE    256\n",
      "STEPS_PER_EPOCH                1000\n",
      "TRAIN_ROIS_PER_IMAGE           200\n",
      "USE_MINI_MASK                  True\n",
      "USE_RPN_ROIS                   True\n",
      "USE_TUMORCLASS                 True\n",
      "VALIDATION_STEPS               50\n",
      "WEIGHT_DECAY                   0.0001\n",
      "\n",
      "\n"
     ]
    }
   ],
   "source": [
    "# Specify the dir that store the prostate dataset\n",
    "# dataset_dir = os.path.join(os.path.dirname(os.getcwd()), \"Data_Pre_Processing/cedars-224\")\n",
    "dataset_dir = os.path.join(\"/data/wenyuan/Mask-RCNN/Mask-RCNN-Path\", \"Data_Pre_Processing/cedars-224\")\n",
    "# We do 5-fold validation, specify which fold to be exclude for the current run\n",
    "held_out_set = 4\n",
    "# Featch the mean_pixel based on the training data (data exclude the held_out_set)\n",
    "mean_pixel = prostate.Mean_pixel(dataset_dir, held_out_set)\n",
    "# Configuration\n",
    "class EvaluationConfig(prostate.ProstateConfig):\n",
    "    GPU_COUNT = 1\n",
    "    IMAGES_PER_GPU = 1\n",
    "    DETECTION_MIN_CONFIDENCE = 0.5\n",
    "    DETECTION_NMS_THRESHOLD = 1     \n",
    "    MEAN_PIXEL = np.array(mean_pixel)\n",
    "    IMAGE_MAX_DIM = 512\n",
    "    IMAGE_MIN_DIM = 512\n",
    "    DETECTION_CROP = [128, 384, 128, 384] # [height_crop_start, height_crop_end, width_crop_start, width_crop_end]\n",
    "    MODE = 16\n",
    "    USE_TUMORCLASS = True\n",
    "evaluation_config = EvaluationConfig()\n",
    "evaluation_config.display()"
   ]
  },
  {
   "cell_type": "markdown",
   "metadata": {},
   "source": [
    "## Create Model Graph and Loading Weights"
   ]
  },
  {
   "cell_type": "code",
   "execution_count": 51,
   "metadata": {},
   "outputs": [
    {
     "name": "stdout",
     "output_type": "stream",
     "text": [
      "Loading weights from  /scratch/wenyuan/Mask_RCNN_On_Pathology/Mask_RCNN/logs/prostate20180223T1554_held_out_set_4/mask_rcnn_prostate_0071.h5\n"
     ]
    }
   ],
   "source": [
    "# Recreate the model in inference mode\n",
    "model = modellib.MaskRCNN(mode=\"detection\", \n",
    "                          config=evaluation_config,\n",
    "                          model_dir=MODEL_DIR)\n",
    "# Get path to saved weights\n",
    "# Either set a specific path, find a trained weights specified by epoch and held_out_set or find last trained weights\n",
    "h5_filename = None # Specify the h5 filename here if you want to choose a specific file\n",
    "epoch = 71\n",
    "\n",
    "if h5_filename is not None:\n",
    "    model_path = os.path.join(ROOT_DIR, \".h5 file name here\")\n",
    "elif epoch == -1:    \n",
    "    model_path = model.find_last()[1]\n",
    "else:\n",
    "    try:\n",
    "        model_path = model.find_specific(epoch = epoch, held_out_set = held_out_set)[1]\n",
    "    except:\n",
    "        model_path = model.find_specific(epoch = epoch)[1]\n",
    "\n",
    "# Load trained weights (fill in path to trained weights here)\n",
    "assert model_path != \"\", \"Provide path to trained weights\"\n",
    "print(\"Loading weights from \", model_path)\n",
    "model.load_weights(model_path, by_name=True)"
   ]
  },
  {
   "cell_type": "markdown",
   "metadata": {},
   "source": [
    "## Prepare the Dataset"
   ]
  },
  {
   "cell_type": "code",
   "execution_count": 52,
   "metadata": {
    "collapsed": true
   },
   "outputs": [],
   "source": [
    "dataset_val = prostate.ProstateDataset()\n",
    "_, val_list = dataset_val.generator_patition(dataset_dir, held_out_set)\n",
    "# val_list = [image for image in val_list if image not in exclude_list]\n",
    "dataset_val.load_prostate(dataset_dir, val_list, mode = evaluation_config.MODE)\n",
    "dataset_val.prepare()"
   ]
  },
  {
   "cell_type": "markdown",
   "metadata": {},
   "source": [
    "## Run Detection"
   ]
  },
  {
   "cell_type": "code",
   "execution_count": 53,
   "metadata": {
    "collapsed": true
   },
   "outputs": [],
   "source": [
    "def Post_Processing(img, prob):\n",
    "    # change the prob (0, 0, 0, 0) item to (1, 0, 0 ,0)\n",
    "    index_0, index_1 = np.where((prob == (0, 0, 0, 0)).all(axis = 2))\n",
    "    prob[index_0, index_1, :] = (0.99, 0.01/3, 0.01/3, 0.01/3)\n",
    "    # move the probability axis to assure that the first dimension is the class dimension\n",
    "    prob_move = np.moveaxis(prob, 2, 0)\n",
    "    # The input should be the negative of the logarithm of probability values\n",
    "    # Look up the definition of the unary_from_softmax for more information\n",
    "    unary = unary_from_softmax(prob_move)\n",
    "    # The inputs should be C-continious -- we are using Cython wrapper\n",
    "    unary = np.ascontiguousarray(unary)\n",
    "    d = dcrf.DenseCRF(img.shape[0] * img.shape[1], 4)\n",
    "    d.setUnaryEnergy(unary)\n",
    "    # This potential penalizes small pieces of segmentation that are\n",
    "    # spatially isolated -- enforces more spatially consistent segmentations\n",
    "    feats = create_pairwise_gaussian(sdims=(7, 7), shape=img.shape[:2])\n",
    "    d.addPairwiseEnergy(feats, compat=3,\n",
    "                        kernel=dcrf.DIAG_KERNEL,\n",
    "                        normalization=dcrf.NORMALIZE_SYMMETRIC)\n",
    "    Q = d.inference(5)\n",
    "    post_processing = np.argmax(Q, axis=0).reshape((img.shape[0], img.shape[1]))\n",
    "    return post_processing"
   ]
  },
  {
   "cell_type": "code",
   "execution_count": 54,
   "metadata": {},
   "outputs": [],
   "source": [
    "# Initialize the confusion matrix\n",
    "C_MATRIX = np.zeros((4, 4))\n",
    "# Create crop region\n",
    "hv, wv = utils.create_crop_region(evaluation_config) # meshgrid for crop region\n",
    "rc_num = int(math.sqrt(evaluation_config.MODE)) # how many patches in each row or col\n",
    "# Process display setting\n",
    "display_step = 10 # print out process for every display_step images\n",
    "total_image = len(val_list)\n",
    "r_tumor_probs = []\n",
    "for Image_id in range(0, len(dataset_val.image_ids), evaluation_config.MODE):\n",
    "# for Image_id in range(576, 577):\n",
    "    image_whole = []\n",
    "    gt_mask_whole = []\n",
    "    det_mask_whole = []\n",
    "    det_probs_whole = []\n",
    "    for i in range(evaluation_config.MODE):\n",
    "        # Load image and ground truth data\n",
    "        image, image_meta, gt_class_id, gt_bbox, gt_mask =\\\n",
    "            modellib.load_image_gt(dataset_val, evaluation_config,\n",
    "                                   Image_id + i, use_mini_mask=False)\n",
    "        gt_tumor_class = 1 if (sum(gt_class_id)) else 0\n",
    "\n",
    "        image_whole.append(image[hv, wv])\n",
    "        # Convert gt-instance mask to gt-sementic mask\n",
    "        gt_sementic_mask = utils.instance_2_sementic(gt_mask, gt_class_id)\n",
    "        gt_sementic_mask = gt_sementic_mask['ATmask']\n",
    "        gt_sementic_mask = gt_sementic_mask[hv, wv]\n",
    "        gt_mask_whole.append(gt_sementic_mask)\n",
    "\n",
    "        # Run object detection\n",
    "        results = model.detect([image], verbose=0)\n",
    "        r = results[0]\n",
    "\n",
    "        # TODO: modify this part\n",
    "        if np.argmax(r['tumor_probs']) == 1 and len(r['class_ids']) != 0:\n",
    "            det_sementic_mask = r['sementic_mask']\n",
    "            det_sementic_probs = r['prob_mask']\n",
    "            r_tumor_probs.append(1)\n",
    "        else:\n",
    "            det_sementic_mask = np.zeros((image.shape[0], image.shape[1]))\n",
    "            det_sementic_probs = np.zeros((image.shape[0], image.shape[1], evaluation_config.NUM_CLASSES))\n",
    "            det_sementic_probs[:, :, 0] = 1\n",
    "            r_tumor_probs.append(0)\n",
    "\n",
    "        det_mask_whole.append(det_sementic_mask[hv, wv])\n",
    "        det_probs_whole.append(det_sementic_probs[hv, wv])\n",
    "    ## Combine Patches to Whole Slide\n",
    "    img = utils.combine_2_whole_slide(image_whole, rc_num, rc_num)\n",
    "    ann = utils.combine_2_whole_slide(gt_mask_whole, rc_num, rc_num)\n",
    "    det = utils.combine_2_whole_slide(det_mask_whole, rc_num, rc_num)\n",
    "    prob = utils.combine_2_whole_slide(det_probs_whole, rc_num, rc_num)\n",
    "    post_processing = Post_Processing(img, prob)\n",
    "    # Compute confusion matrix\n",
    "    c_matrix = confusion_matrix(np.ravel(ann), np.ravel(post_processing))\n",
    "    # Expand the c_matrix to NUM_CLASSES * NUM_CLASSES\n",
    "    c_matrix = utils.expand_c_matrix(c_matrix, evaluation_config.NUM_CLASSES, ann, post_processing)\n",
    "    # Update cofusion matrix\n",
    "    C_MATRIX = C_MATRIX + c_matrix\n",
    "    # Display the process\n",
    "    if ((Image_id + 1) % (evaluation_config.MODE * display_step) == 0):\n",
    "        print('Done evaluating %d / %d!'%((Image_id + 1) / evaluation_config.MODE, total_image))"
   ]
  },
  {
   "cell_type": "markdown",
   "metadata": {},
   "source": [
    "## Print Evaluation Results"
   ]
  },
  {
   "cell_type": "code",
   "execution_count": 55,
   "metadata": {},
   "outputs": [
    {
     "name": "stdout",
     "output_type": "stream",
     "text": [
      "Confusion Matrix:\n",
      " [[ 45358315.   1697425.   3663320.    858362.]\n",
      " [  1193875.  10930164.   1736414.    302055.]\n",
      " [  2681236.    584861.  31089459.     83417.]\n",
      " [   296534.    260562.    170666.   7096663.]]\n",
      " mIOU: 0.756885952125 \n",
      " IOU for each class: [0.81361567898526443, 0.65429099505571742, 0.77705439172965796, 0.78258274272933759] \n",
      " Below_th: False\n"
     ]
    }
   ],
   "source": [
    "mIOU, IOU, below_th = utils.compute_mIOU(C_MATRIX, th = 0.5)\n",
    "print('Confusion Matrix:\\n', C_MATRIX)\n",
    "print(' mIOU:', mIOU, '\\n', \n",
    "      'IOU for each class:', IOU, '\\n',\n",
    "      'Below_th:', below_th)"
   ]
  },
  {
   "cell_type": "code",
   "execution_count": 56,
   "metadata": {
    "collapsed": true
   },
   "outputs": [],
   "source": [
    "# import scipy.io\n",
    "# filename = \"Set%d_w_DNH_CRF\"%held_out_set\n",
    "# C_Matrix_dict = {filename:C_MATRIX}\n",
    "# file_path = filename + \".mat\"\n",
    "# scipy.io.savemat(file_path, C_Matrix_dict)"
   ]
  },
  {
   "cell_type": "code",
   "execution_count": 57,
   "metadata": {},
   "outputs": [
    {
     "data": {
      "text/plain": [
       "1648"
      ]
     },
     "execution_count": 57,
     "metadata": {},
     "output_type": "execute_result"
    }
   ],
   "source": [
    "len(r_tumor_probs)"
   ]
  },
  {
   "cell_type": "code",
   "execution_count": 58,
   "metadata": {},
   "outputs": [],
   "source": [
    "Tumor_indicator = []\n",
    "for i in range(0, len(r_tumor_probs), evaluation_config.MODE):\n",
    "    r = 1 if sum(r_tumor_probs[i : i + evaluation_config.MODE]) > 0 else 0\n",
    "    Tumor_indicator.append(r)\n",
    "    \n"
   ]
  },
  {
   "cell_type": "code",
   "execution_count": 59,
   "metadata": {},
   "outputs": [],
   "source": [
    "np.savetxt(\"Set%d_ENH_RES.txt\"%held_out_set, Tumor_indicator)"
   ]
  },
  {
   "cell_type": "code",
   "execution_count": 60,
   "metadata": {},
   "outputs": [
    {
     "data": {
      "text/plain": [
       "103"
      ]
     },
     "execution_count": 60,
     "metadata": {},
     "output_type": "execute_result"
    }
   ],
   "source": [
    "len(Tumor_indicator)"
   ]
  },
  {
   "cell_type": "code",
   "execution_count": null,
   "metadata": {
    "collapsed": true
   },
   "outputs": [],
   "source": []
  }
 ],
 "metadata": {
  "anaconda-cloud": {},
  "kernelspec": {
   "display_name": "Python 3",
   "language": "python",
   "name": "python3"
  },
  "language_info": {
   "codemirror_mode": {
    "name": "ipython",
    "version": 3
   },
   "file_extension": ".py",
   "mimetype": "text/x-python",
   "name": "python",
   "nbconvert_exporter": "python",
   "pygments_lexer": "ipython3",
   "version": "3.5.4"
  }
 },
 "nbformat": 4,
 "nbformat_minor": 2
}
