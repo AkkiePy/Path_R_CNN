{
 "cells": [
  {
   "cell_type": "code",
   "execution_count": 1,
   "metadata": {},
   "outputs": [
    {
     "name": "stderr",
     "output_type": "stream",
     "text": [
      "Using TensorFlow backend.\n"
     ]
    }
   ],
   "source": [
    "import os\n",
    "import sys\n",
    "import random\n",
    "import math\n",
    "import re\n",
    "import time\n",
    "import numpy as np\n",
    "import cv2\n",
    "import matplotlib\n",
    "import matplotlib.pyplot as plt\n",
    "from sklearn.metrics import confusion_matrix\n",
    "import scipy.io\n",
    "\n",
    "from config import Config\n",
    "import utils\n",
    "import model as modellib\n",
    "import visualize\n",
    "from model import log\n",
    "import prostate\n",
    "\n",
    "%matplotlib inline\n",
    "\n",
    "# GPU to use\n",
    "os.environ[\"CUDA_DEVICE_ORDER\"]=\"PCI_BUS_ID\"   # see issue #152\n",
    "os.environ[\"CUDA_VISIBLE_DEVICES\"]=\"0\"\n",
    "\n",
    "# Root directory of the project\n",
    "ROOT_DIR = os.getcwd()\n",
    "\n",
    "# Directory to save logs and trained model\n",
    "MODEL_DIR = os.path.join(ROOT_DIR, \"logs\")"
   ]
  },
  {
   "cell_type": "code",
   "execution_count": 18,
   "metadata": {},
   "outputs": [
    {
     "name": "stdout",
     "output_type": "stream",
     "text": [
      "\n",
      "Configurations:\n",
      "BACKBONE_SHAPES                [[128 128]\n",
      " [ 64  64]\n",
      " [ 32  32]\n",
      " [ 16  16]\n",
      " [  8   8]]\n",
      "BACKBONE_STRIDES               [4, 8, 16, 32, 64]\n",
      "BATCH_SIZE                     1\n",
      "BBOX_STD_DEV                   [ 0.1  0.1  0.2  0.2]\n",
      "DETECTION_MAX_INSTANCES        100\n",
      "DETECTION_MIN_CONFIDENCE       0\n",
      "DETECTION_NMS_THRESHOLD        1\n",
      "GPU_COUNT                      1\n",
      "IMAGES_PER_GPU                 1\n",
      "IMAGE_MAX_DIM                  512\n",
      "IMAGE_MIN_DIM                  512\n",
      "IMAGE_PADDING                  True\n",
      "IMAGE_SHAPE                    [512 512   3]\n",
      "LEARNING_MOMENTUM              0.9\n",
      "LEARNING_RATE                  0.001\n",
      "MASK_POOL_SIZE                 14\n",
      "MASK_SHAPE                     [28, 28]\n",
      "MAX_GT_INSTANCES               100\n",
      "MEAN_PIXEL                     [ 193.97800579  120.89113632  183.79060979]\n",
      "MINI_MASK_SHAPE                (56, 56)\n",
      "NAME                           prostate\n",
      "NUM_CLASSES                    4\n",
      "POOL_SIZE                      7\n",
      "POST_NMS_ROIS_INFERENCE        1000\n",
      "POST_NMS_ROIS_TRAINING         2000\n",
      "ROI_POSITIVE_RATIO             0.33\n",
      "RPN_ANCHOR_RATIOS              [0.5, 1, 2]\n",
      "RPN_ANCHOR_SCALES              (32, 64, 128, 256, 512)\n",
      "RPN_ANCHOR_STRIDE              1\n",
      "RPN_BBOX_STD_DEV               [ 0.1  0.1  0.2  0.2]\n",
      "RPN_NMS_THRESHOLD              0.7\n",
      "RPN_TRAIN_ANCHORS_PER_IMAGE    256\n",
      "STEPS_PER_EPOCH                1000\n",
      "TRAIN_ROIS_PER_IMAGE           200\n",
      "USE_MINI_MASK                  True\n",
      "USE_RPN_ROIS                   True\n",
      "USE_TUMORCLASS                 True\n",
      "VALIDATION_STEPS               50\n",
      "WEIGHT_DECAY                   0.0001\n",
      "\n",
      "\n",
      "Loading weights from  /scratch/wenyuan/Mask_RCNN_On_Pathology/Mask_RCNN/logs/prostate20180223T1554/mask_rcnn_prostate_0070.h5\n"
     ]
    }
   ],
   "source": [
    "dataset_dir = \"/scratch/wenyuan/Mask_RCNN_On_Pathology/Data_Pre_Processing/cedars-224\"\n",
    "held_out_set = 4\n",
    "mean_pixel = prostate.Mean_pixel(dataset_dir, held_out_set) # take out the mean pixel for specific held_out_set\n",
    "\n",
    "class InferenceConfig(prostate.ProstateConfig):\n",
    "    GPU_COUNT = 1\n",
    "    IMAGES_PER_GPU = 1\n",
    "    DETECTION_MIN_CONFIDENCE = 0\n",
    "    DETECTION_NMS_THRESHOLD = 1     \n",
    "    MEAN_PIXEL = np.array(mean_pixel)\n",
    "\n",
    "inference_config = InferenceConfig()\n",
    "inference_config.display()\n",
    "# Recreate the model in inference mode\n",
    "model = modellib.MaskRCNN(mode=\"inference\", \n",
    "                          config=inference_config,\n",
    "                          model_dir=MODEL_DIR)\n",
    "# Get path to saved weights\n",
    "# Either set a specific path, find a trained weights specified by epoch and held_out_set or find last trained weights\n",
    "\n",
    "# model_path = os.path.join(ROOT_DIR, \".h5 file name here\")\n",
    "# model_path = model.find_last()[1]\n",
    "# model_path = model.find_specific(epoch = 80, held_out_set = held_out_set)[1]\n",
    "model_path = model.find_specific(epoch = 70)[1]\n",
    "\n",
    "# Load trained weights (fill in path to trained weights here)\n",
    "assert model_path != \"\", \"Provide path to trained weights\"\n",
    "print(\"Loading weights from \", model_path)\n",
    "model.load_weights(model_path, by_name=True)"
   ]
  },
  {
   "cell_type": "code",
   "execution_count": 19,
   "metadata": {
    "collapsed": true
   },
   "outputs": [],
   "source": [
    "def instance_2_sementic(instance_mask, class_ids):\n",
    "    \"\"\"convert instance mask to sementic mask\n",
    "    \"\"\"\n",
    "    try:\n",
    "        h, w, d = instance_mask.shape\n",
    "    except ValueError:\n",
    "        mask = int(class_ids) * instance_mask \n",
    "        result_dict = {'ATmask': mask}\n",
    "        return result_dict\n",
    "    \n",
    "    mask_map = {}\n",
    "    for index, label in enumerate(class_ids):\n",
    "        mask_map[str(label)] = np.logical_or(mask_map[str(label)], \\\n",
    "                                             instance_mask[:, :, index]) \\\n",
    "        if str(label) in mask_map.keys() else instance_mask[:, :, index]\n",
    "    \n",
    "    mask = np.zeros((h, w), dtype=np.int)\n",
    "\n",
    "    for key in mask_map.keys():\n",
    "        if (key != '0'):\n",
    "            mask = mask + int(key) * mask_map[key] \n",
    "    result_dict = {'ATmask': mask}\n",
    "    return result_dict"
   ]
  },
  {
   "cell_type": "code",
   "execution_count": 20,
   "metadata": {
    "collapsed": true
   },
   "outputs": [],
   "source": [
    "def prediction_2_sementic(mask, class_ids, scores):\n",
    "    \"\"\" convert maskrcnn prediction to 1 single sementic mask\n",
    "    \"\"\"\n",
    "    mask_map = {} # create a probability dict for each class\n",
    "    for index, label in enumerate(class_ids):\n",
    "        mask_map[str(label)] = \\\n",
    "        np.maximum(mask_map[str(label)], scores[index] * mask[:, :, index])\\\n",
    "        if str(label) in mask_map.keys() else scores[index] * mask[:, :, index]\n",
    "    \n",
    "    ## convert to h * w * num_classes probability map\n",
    "    h, w, d = mask.shape\n",
    "    for i in range(4):\n",
    "        try:\n",
    "            sementic_mask = \\\n",
    "            np.concatenate((sementic_mask, \\\n",
    "                            np.expand_dims(mask_map[str(i)], axis = -1)),axis = -1)\\\n",
    "            if (i != 0) else np.expand_dims(mask_map[str(i)], axis = -1)\n",
    "        except KeyError:\n",
    "            sementic_mask = np.concatenate((sementic_mask, np.zeros((h, w, 1))),axis = -1)\\\n",
    "            if (i != 0) else np.zeros((h, w, 1))\n",
    "            \n",
    "    sementic_mask_res = np.argmax(sementic_mask, axis = -1)\n",
    "    return sementic_mask_res"
   ]
  },
  {
   "cell_type": "code",
   "execution_count": 21,
   "metadata": {
    "collapsed": true
   },
   "outputs": [],
   "source": [
    "def save_sementic(result_dict, image_id, dataset_dir):\n",
    "    save_name = \\\n",
    "    os.path.join(dataset_dir, 'masks_sementic_mod/' + str(image_id).zfill(4) + '_sementic.mat')\n",
    "    scipy.io.savemat(save_name, result_dict)"
   ]
  },
  {
   "cell_type": "code",
   "execution_count": 22,
   "metadata": {
    "collapsed": true
   },
   "outputs": [],
   "source": [
    "def compute_mIOU(c_matrix):\n",
    "    \"\"\" compute the mIOU based on the confusion matrix\n",
    "    \"\"\"\n",
    "    num_class, _ = c_matrix.shape\n",
    "    IOU = []\n",
    "    for i in range(num_class):\n",
    "        p = c_matrix[i, i] / (sum(c_matrix[i, :]) + sum(c_matrix[:, i]) - c_matrix[i, i]) \\\n",
    "        if (sum(c_matrix[i, :]) + sum(c_matrix[:, i]) - c_matrix[i, i]) else 0\n",
    "        IOU.append(p)\n",
    "    return np.mean(IOU), IOU"
   ]
  },
  {
   "cell_type": "code",
   "execution_count": 23,
   "metadata": {
    "collapsed": true
   },
   "outputs": [],
   "source": [
    "dataset_val = prostate.ProstateDataset()\n",
    "_, val_list = dataset_val.generator_patition(dataset_dir, held_out_set)\n",
    "# val_list = [0, 1, 2, 3]\n",
    "# exclude_list = [394, 185, 506, 289, 360, 7, 222, 406,\\\n",
    "#                152, 195, 219, 510, 196, 399, 237, 41,\\\n",
    "#                44, 274, 423, 432, 207, 371, 463, 482,\\\n",
    "#                176, 50, 494, 154, 337, 275, 166, 184,\\\n",
    "#                331, 262, 496, 260, 5, 240, 80, 426, 277,\\\n",
    "#                124, 162, 288, 251, 465, 72, 187, 284, \\\n",
    "#                342, 115, 139, 40, 503, 77, 350, 430, 12, \\\n",
    "#                499, 459, 312, 142, 100, 128]\n",
    "# val_list = [image for image in val_list if image not in exclude_list]\n",
    "dataset_val.load_prostate(dataset_dir, val_list, mode = 16)\n",
    "dataset_val.prepare()"
   ]
  },
  {
   "cell_type": "code",
   "execution_count": 24,
   "metadata": {},
   "outputs": [
    {
     "name": "stdout",
     "output_type": "stream",
     "text": [
      "Done evaluating 80 / 1648!\n",
      "Done evaluating 160 / 1648!\n",
      "Done evaluating 240 / 1648!\n",
      "Done evaluating 320 / 1648!\n",
      "Done evaluating 400 / 1648!\n",
      "Done evaluating 480 / 1648!\n",
      "Done evaluating 560 / 1648!\n",
      "Done evaluating 640 / 1648!\n",
      "Done evaluating 720 / 1648!\n",
      "Done evaluating 800 / 1648!\n",
      "Done evaluating 880 / 1648!\n",
      "Done evaluating 960 / 1648!\n",
      "Done evaluating 1040 / 1648!\n",
      "Done evaluating 1120 / 1648!\n",
      "Done evaluating 1200 / 1648!\n",
      "Done evaluating 1280 / 1648!\n",
      "Done evaluating 1360 / 1648!\n",
      "Done evaluating 1440 / 1648!\n",
      "Done evaluating 1520 / 1648!\n",
      "Done evaluating 1600 / 1648!\n",
      "mIOU:  0.682612452359 \n",
      "IOU: [0.7024491890225385, 0.65283656483892538, 0.69198332023366893, 0.68318073534275736]\n"
     ]
    }
   ],
   "source": [
    "### Define the crop position: the output of the prediction is [512 * 512] while we take [256 * 256] image\n",
    "height_crop = [128, 384]\n",
    "width_crop = [128, 384]\n",
    "save = False # whether to save the gt-sementic mask at size of [512 * 512]\n",
    "C_MATRIX = np.zeros((4, 4))\n",
    "for image_id in dataset_val.image_ids:\n",
    "    # Load image and ground truth data\n",
    "    image, image_meta, gt_class_id, gt_bbox, gt_mask =\\\n",
    "            modellib.load_image_gt(dataset_val, inference_config,\n",
    "                                   image_id, use_mini_mask=False)\n",
    "    # Convert gt-instance mask to gt-sementic mask\n",
    "    gt_sementic_mask = instance_2_sementic(gt_mask, gt_class_id)\n",
    "    \n",
    "    if save:\n",
    "        # TODO: save the gt-sementic mask at size of [256 * 256]\n",
    "        print('save file!')\n",
    "    # Run object detection\n",
    "    results = model.detect([image], verbose=0)\n",
    "    r = results[0]\n",
    "    # Convert prediction to sementic mask\n",
    "    result_sementic = prediction_2_sementic(r['masks'], r['class_ids'], r['scores'])\\\n",
    "    if r['class_ids'].size != 0 else np.zeros((image.shape[0], image.shape[1]))\n",
    "    # Compute confusion matrix\n",
    "    c_matrix = confusion_matrix(np.ravel(\\\n",
    "                                gt_sementic_mask['ATmask'][height_crop[0] : height_crop[1], \\\n",
    "                                                           width_crop[0] : width_crop[1]]), \\\n",
    "                                np.ravel(result_sementic[height_crop[0] : height_crop[1], \\\n",
    "                                                         width_crop[0] : width_crop[1]]))\n",
    "    \n",
    "    if c_matrix.size != 16:\n",
    "        \"\"\"if the confusion matrix is not 4 by 4, expand the matrix to 4 * 4\n",
    "        \"\"\"\n",
    "        unique_set = \\\n",
    "        np.union1d(np.unique(result_sementic[height_crop[0] : height_crop[1], width_crop[0] : width_crop[1]]), \\\n",
    "                   np.unique(gt_sementic_mask['ATmask'][height_crop[0] : height_crop[1], \\\n",
    "                                                        width_crop[0] : width_crop[1]]))\n",
    "        xv, yv = np.meshgrid(unique_set, unique_set)\n",
    "        temp = np.zeros((4, 4))\n",
    "        temp[yv.astype(int), xv.astype(int)] = c_matrix\n",
    "        c_matrix = temp \n",
    "    \n",
    "    # Update cofusion matrix\n",
    "    C_MATRIX = C_MATRIX + c_matrix\n",
    "    if ((image_id + 1) % (16 * 5) == 0):\n",
    "        print('Done evaluating %d / %d!'%(image_id + 1, len(dataset_val.image_ids)))\n",
    "        \n",
    "# Compute mIOU based on confusion matrix\n",
    "mIOU, IOU = compute_mIOU(C_MATRIX)\n",
    "print(\"mIOU: \", mIOU, \"\\nIOU:\", IOU)"
   ]
  },
  {
   "cell_type": "code",
   "execution_count": 25,
   "metadata": {},
   "outputs": [
    {
     "name": "stdout",
     "output_type": "stream",
     "text": [
      "[[ 38901955.   1836547.   8672610.   2166310.]\n",
      " [  1010767.  11031535.   1807173.    313033.]\n",
      " [  2516889.    628617.  31208719.     84748.]\n",
      " [   275376.    270179.    181636.   7097234.]]\n",
      "mIOU:  0.682612452359 \n",
      "IOU: [0.7024491890225385, 0.65283656483892538, 0.69198332023366893, 0.68318073534275736]\n"
     ]
    }
   ],
   "source": [
    "print(C_MATRIX)\n",
    "mIOU, IOU = compute_mIOU(C_MATRIX)\n",
    "print(\"mIOU: \", mIOU, \"\\nIOU:\", IOU)"
   ]
  },
  {
   "cell_type": "code",
   "execution_count": 26,
   "metadata": {
    "collapsed": true
   },
   "outputs": [],
   "source": [
    "# visualize.display_instances(image, gt_bbox, gt_mask, gt_class_id, \n",
    "#                              dataset_val.class_names, figsize=(8, 8))"
   ]
  },
  {
   "cell_type": "code",
   "execution_count": 27,
   "metadata": {
    "collapsed": true
   },
   "outputs": [],
   "source": [
    "# results = model.detect([image], verbose=0)\n",
    "# r = results[0]\n",
    "# visualize.display_instances(image, r['rois'], r['masks'], r['class_ids'], \n",
    "#                             dataset_val.class_names, r['scores'], figsize=(8, 8))"
   ]
  },
  {
   "cell_type": "code",
   "execution_count": 28,
   "metadata": {
    "collapsed": true
   },
   "outputs": [],
   "source": [
    "# gt_sementic_mask = instance_2_sementic(gt_mask, gt_class_id)"
   ]
  },
  {
   "cell_type": "code",
   "execution_count": 29,
   "metadata": {
    "collapsed": true
   },
   "outputs": [],
   "source": [
    "# Visualization the sementic map\n",
    "# visualize.display_sementic(image, gt_sementic_mask['ATmask'],\n",
    "#                             figsize=(8, 8))"
   ]
  },
  {
   "cell_type": "code",
   "execution_count": 30,
   "metadata": {
    "collapsed": true
   },
   "outputs": [],
   "source": [
    "# # Convert prediction to sementic mask\n",
    "# result_sementic = prediction_2_sementic(r['masks'], r['class_ids'], r['scores'])\\\n",
    "# if r['class_ids'].size != 0 else np.zeros((image.shape[0], image.shape[1]))\n",
    "\n",
    "# visualize.display_sementic(image, result_sementic,\n",
    "#                             figsize=(8, 8))\n",
    "# # Compute confusion matrix\n",
    "# c_matrix = confusion_matrix(np.ravel(gt_sementic_mask['ATmask'][50:150, 50:150]), \\\n",
    "#                             np.ravel(result_sementic[50:150, 50:150]))\n",
    "# if c_matrix.size != 16:\n",
    "#     \"\"\"if the confusion matrix is not 4 by 4\n",
    "#     \"\"\"\n",
    "#     unique_set = \\\n",
    "#     np.union1d(np.unique(result_sementic[50:150, 50:150]), \\\n",
    "#                np.unique(gt_sementic_mask['ATmask'][50:150, 50:150]))\n",
    "#     xv, yv = np.meshgrid(unique_set, unique_set)\n",
    "#     temp = np.zeros((4, 4))\n",
    "#     temp[yv.astype(int), xv.astype(int)] = c_matrix\n",
    "#     c_matrix = temp "
   ]
  },
  {
   "cell_type": "code",
   "execution_count": 31,
   "metadata": {
    "collapsed": true
   },
   "outputs": [],
   "source": [
    "# mIOU, IOU = compute_mIOU(c_matrix)\n",
    "# print(mIOU, IOU)"
   ]
  },
  {
   "cell_type": "code",
   "execution_count": null,
   "metadata": {
    "collapsed": true
   },
   "outputs": [],
   "source": []
  }
 ],
 "metadata": {
  "kernelspec": {
   "display_name": "Python 3",
   "language": "python",
   "name": "python3"
  },
  "language_info": {
   "codemirror_mode": {
    "name": "ipython",
    "version": 3
   },
   "file_extension": ".py",
   "mimetype": "text/x-python",
   "name": "python",
   "nbconvert_exporter": "python",
   "pygments_lexer": "ipython3",
   "version": "3.5.3"
  }
 },
 "nbformat": 4,
 "nbformat_minor": 2
}
