{
 "cells": [
  {
   "cell_type": "code",
   "execution_count": 1,
   "metadata": {
    "collapsed": true
   },
   "outputs": [],
   "source": [
    "import numpy as np"
   ]
  },
  {
   "cell_type": "code",
   "execution_count": null,
   "metadata": {
    "collapsed": true
   },
   "outputs": [],
   "source": []
  },
  {
   "cell_type": "code",
   "execution_count": 10,
   "metadata": {
    "collapsed": true
   },
   "outputs": [],
   "source": [
    "scales = 32\n",
    "ratios = [0.5, 1, 2]\n",
    "shape = [128, 128]\n",
    "feature_stride = 4\n",
    "anchor_stride = 1"
   ]
  },
  {
   "cell_type": "code",
   "execution_count": 3,
   "metadata": {
    "collapsed": true
   },
   "outputs": [],
   "source": [
    "scales, ratios = np.meshgrid(np.array(scales), np.array(ratios))\n",
    "scales = scales.flatten()\n",
    "ratios = ratios.flatten()"
   ]
  },
  {
   "cell_type": "code",
   "execution_count": 5,
   "metadata": {},
   "outputs": [
    {
     "name": "stdout",
     "output_type": "stream",
     "text": [
      "[32 32 32] [ 0.5  1.   2. ]\n"
     ]
    }
   ],
   "source": [
    "print(scales, ratios)"
   ]
  },
  {
   "cell_type": "code",
   "execution_count": 6,
   "metadata": {
    "collapsed": true
   },
   "outputs": [],
   "source": [
    "heights = scales / np.sqrt(ratios)\n",
    "widths = scales * np.sqrt(ratios)"
   ]
  },
  {
   "cell_type": "code",
   "execution_count": 7,
   "metadata": {},
   "outputs": [
    {
     "name": "stdout",
     "output_type": "stream",
     "text": [
      "[ 45.254834  32.        22.627417] [ 22.627417  32.        45.254834]\n"
     ]
    }
   ],
   "source": [
    "print(heights, widths)"
   ]
  },
  {
   "cell_type": "code",
   "execution_count": 11,
   "metadata": {},
   "outputs": [],
   "source": [
    "shifts_y = np.arange(0, shape[0], anchor_stride) * feature_stride\n",
    "shifts_x = np.arange(0, shape[1], anchor_stride) * feature_stride\n",
    "shifts_x, shifts_y = np.meshgrid(shifts_x, shifts_y)"
   ]
  },
  {
   "cell_type": "code",
   "execution_count": 13,
   "metadata": {},
   "outputs": [
    {
     "name": "stdout",
     "output_type": "stream",
     "text": [
      "[[  0   4   8 ..., 500 504 508]\n",
      " [  0   4   8 ..., 500 504 508]\n",
      " [  0   4   8 ..., 500 504 508]\n",
      " ..., \n",
      " [  0   4   8 ..., 500 504 508]\n",
      " [  0   4   8 ..., 500 504 508]\n",
      " [  0   4   8 ..., 500 504 508]]\n"
     ]
    }
   ],
   "source": [
    "print(shifts_x)"
   ]
  },
  {
   "cell_type": "code",
   "execution_count": 14,
   "metadata": {
    "collapsed": true
   },
   "outputs": [],
   "source": [
    "box_widths, box_centers_x = np.meshgrid(widths, shifts_x)\n",
    "box_heights, box_centers_y = np.meshgrid(heights, shifts_y)"
   ]
  },
  {
   "cell_type": "code",
   "execution_count": 17,
   "metadata": {},
   "outputs": [
    {
     "name": "stdout",
     "output_type": "stream",
     "text": [
      "[[  0   0   0]\n",
      " [  4   4   4]\n",
      " [  8   8   8]\n",
      " ..., \n",
      " [500 500 500]\n",
      " [504 504 504]\n",
      " [508 508 508]]\n"
     ]
    }
   ],
   "source": [
    "print(box_centers_x)"
   ]
  },
  {
   "cell_type": "code",
   "execution_count": 18,
   "metadata": {
    "collapsed": true
   },
   "outputs": [],
   "source": [
    "box_centers = np.stack(\n",
    "        [box_centers_y, box_centers_x], axis=2).reshape([-1, 2])\n",
    "box_sizes = np.stack([box_heights, box_widths], axis=2).reshape([-1, 2])"
   ]
  },
  {
   "cell_type": "code",
   "execution_count": 21,
   "metadata": {},
   "outputs": [
    {
     "name": "stdout",
     "output_type": "stream",
     "text": [
      "(49152, 2)\n",
      "(49152, 2)\n"
     ]
    }
   ],
   "source": [
    "print(box_centers.shape)\n",
    "print(box_sizes.shape)"
   ]
  },
  {
   "cell_type": "code",
   "execution_count": 22,
   "metadata": {},
   "outputs": [],
   "source": [
    "boxes = np.concatenate([box_centers - 0.5 * box_sizes,\n",
    "                        box_centers + 0.5 * box_sizes], axis=1)"
   ]
  },
  {
   "cell_type": "code",
   "execution_count": 30,
   "metadata": {},
   "outputs": [
    {
     "name": "stdout",
     "output_type": "stream",
     "text": [
      "(49152, 4)\n",
      "[-16. -16.  16.  16.]\n"
     ]
    }
   ],
   "source": [
    "print(boxes.shape)\n",
    "print(boxes[1,:])"
   ]
  },
  {
   "cell_type": "code",
   "execution_count": null,
   "metadata": {
    "collapsed": true
   },
   "outputs": [],
   "source": []
  }
 ],
 "metadata": {
  "kernelspec": {
   "display_name": "Python 3",
   "language": "python",
   "name": "python3"
  },
  "language_info": {
   "codemirror_mode": {
    "name": "ipython",
    "version": 3
   },
   "file_extension": ".py",
   "mimetype": "text/x-python",
   "name": "python",
   "nbconvert_exporter": "python",
   "pygments_lexer": "ipython3",
   "version": "3.5.3"
  }
 },
 "nbformat": 4,
 "nbformat_minor": 2
}
