{
 "cells": [
  {
   "cell_type": "code",
   "execution_count": null,
   "metadata": {},
   "outputs": [],
   "source": [
    "\"\"\"This ipynb helps calculate the whole confusion matrix\"\"\""
   ]
  },
  {
   "cell_type": "code",
   "execution_count": null,
   "metadata": {},
   "outputs": [],
   "source": [
    "import scipy.io as io\n",
    "import numpy as np\n",
    "import utils"
   ]
  },
  {
   "cell_type": "code",
   "execution_count": null,
   "metadata": {},
   "outputs": [],
   "source": [
    "def read_cmatrix(filename):\n",
    "    return io.loadmat(filename + \".mat\")[filename]"
   ]
  },
  {
   "cell_type": "code",
   "execution_count": null,
   "metadata": {},
   "outputs": [],
   "source": [
    "C_MATRIX = np.zeros((4,4))\n",
    "for Set in [0,1,2,3,4]:\n",
    "    filename = \"Set%d_w_DNH_CRF\"%Set\n",
    "    C_MATRIX = C_MATRIX + read_cmatrix(filename)"
   ]
  },
  {
   "cell_type": "code",
   "execution_count": null,
   "metadata": {},
   "outputs": [],
   "source": [
    "mIOU, IOU, below_th = utils.compute_mIOU(C_MATRIX, th = 0.5)\n",
    "OPA = utils.compute_OPA(C_MATRIX)\n",
    "print('Confusion Matrix:\\n', C_MATRIX)\n",
    "print(' mIOU:', mIOU, '\\n',\n",
    "      'OPA:', OPA, '\\n',\n",
    "      'IOU for each class:', IOU, '\\n',\n",
    "      'Below_th:', below_th)"
   ]
  },
  {
   "cell_type": "code",
   "execution_count": null,
   "metadata": {},
   "outputs": [],
   "source": [
    "## Save whole confusion matrix\n",
    "filename = \"WCM_w_DNH_CRF\"\n",
    "C_Matrix_dict = {filename:C_MATRIX}\n",
    "filepath = filename + \".mat\"\n",
    "io.savemat(filepath, C_Matrix_dict)"
   ]
  }
 ],
 "metadata": {
  "kernelspec": {
   "display_name": "Python 3",
   "language": "python",
   "name": "python3"
  },
  "language_info": {
   "codemirror_mode": {
    "name": "ipython",
    "version": 3
   },
   "file_extension": ".py",
   "mimetype": "text/x-python",
   "name": "python",
   "nbconvert_exporter": "python",
   "pygments_lexer": "ipython3",
   "version": "3.6.5"
  }
 },
 "nbformat": 4,
 "nbformat_minor": 2
}
