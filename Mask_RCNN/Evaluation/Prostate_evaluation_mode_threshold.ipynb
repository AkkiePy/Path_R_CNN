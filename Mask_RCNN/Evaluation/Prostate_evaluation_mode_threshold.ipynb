{
 "cells": [
  {
   "cell_type": "markdown",
   "metadata": {},
   "source": [
    "# Mask R-CNN - Evaluation on Prostate Dataset\n",
    "\n",
    "\n",
    "This notebook shows how to use trained Mask R-CNN on prostate dataset for evaluation. As for large pathology image, we crop each image to several patches. This notebook is designed to get the detection reulst for single patch and evaluate them use mIOU. You'd need a GPU, though, because the network backbone is a Resnet101, which would be slow to detect on a CPU.\n",
    "\n",
    "The code of the Prostate dataset can be found in prostate.py."
   ]
  },
  {
   "cell_type": "markdown",
   "metadata": {},
   "source": [
    "## Import Module"
   ]
  },
  {
   "cell_type": "code",
   "execution_count": null,
   "metadata": {},
   "outputs": [],
   "source": [
    "# import module from system lib\n",
    "import os\n",
    "sys.path.append(os.path.dirname(os.getcwd()))\n",
    "import random\n",
    "import math\n",
    "import re\n",
    "import time\n",
    "import numpy as np\n",
    "import cv2\n",
    "import matplotlib\n",
    "import matplotlib.pyplot as plt\n",
    "from sklearn.metrics import confusion_matrix\n",
    "import scipy.io"
   ]
  },
  {
   "cell_type": "code",
   "execution_count": null,
   "metadata": {},
   "outputs": [],
   "source": [
    "# import module from maskrcnn repo\n",
    "from config import Config\n",
    "import utils\n",
    "import model as modellib\n",
    "import visualize\n",
    "from model import log\n",
    "import prostate\n",
    "\n",
    "%matplotlib inline\n",
    "\n",
    "# Specify GPU to use\n",
    "os.environ[\"CUDA_DEVICE_ORDER\"]=\"PCI_BUS_ID\"   # see issue #152\n",
    "os.environ[\"CUDA_VISIBLE_DEVICES\"]=\"3\"\n",
    "\n",
    "# Root directory of the project\n",
    "ROOT_DIR = os.getcwd()\n",
    "\n",
    "# Directory to save logs and trained model\n",
    "MODEL_DIR = os.path.join(ROOT_DIR, \"logs\")"
   ]
  },
  {
   "cell_type": "markdown",
   "metadata": {},
   "source": [
    "## Configurations"
   ]
  },
  {
   "cell_type": "code",
   "execution_count": null,
   "metadata": {},
   "outputs": [],
   "source": [
    "# Specify the dir that store the prostate dataset\n",
    "dataset_dir = os.path.join('/data/wenyuan/Path_R_CNN', \"Data_Pre_Processing/cedars-224\")\n",
    "# We do 5-fold validation, specify which fold to be exclude for the current run\n",
    "held_out_set = 4\n",
    "# Featch the mean_pixel based on the training data (data exclude the held_out_set)\n",
    "mean_pixel = prostate.Mean_pixel(dataset_dir, held_out_set)\n",
    "# Configuration\n",
    "class EvaluationConfig(prostate.ProstateConfig):\n",
    "    GPU_COUNT = 1\n",
    "    IMAGES_PER_GPU = 1\n",
    "    DETECTION_MIN_CONFIDENCE = 0.5\n",
    "    DETECTION_NMS_THRESHOLD = 1     \n",
    "    MEAN_PIXEL = np.array(mean_pixel)\n",
    "    IMAGE_MAX_DIM = 512\n",
    "    IMAGE_MIN_DIM = 512\n",
    "    DETECTION_CROP = [128, 384, 128, 384] # [height_crop_start, height_crop_end, width_crop_start, width_crop_end]\n",
    "    MODE = 16\n",
    "evaluation_config = EvaluationConfig()\n",
    "evaluation_config.display()"
   ]
  },
  {
   "cell_type": "markdown",
   "metadata": {},
   "source": [
    "## Create Model Graph and Loading Weights"
   ]
  },
  {
   "cell_type": "code",
   "execution_count": null,
   "metadata": {},
   "outputs": [],
   "source": [
    "# Recreate the model in inference mode\n",
    "model = modellib.MaskRCNN(mode=\"detection\", \n",
    "                          config=evaluation_config,\n",
    "                          model_dir=MODEL_DIR)\n",
    "# Get path to saved weights\n",
    "# Either set a specific path, find a trained weights specified by epoch and held_out_set or find last trained weights\n",
    "h5_filename = None # Specify the h5 filename here if you want to choose a specific file\n",
    "epoch = -1\n",
    "\n",
    "if h5_filename is not None:\n",
    "    model_path = os.path.join(ROOT_DIR, \".h5 file name here\")\n",
    "elif epoch == -1:    \n",
    "    model_path = model.find_last()[1]\n",
    "else:\n",
    "    try:\n",
    "        model_path = model.find_specific(epoch = epoch, held_out_set = held_out_set)[1]\n",
    "    except:\n",
    "        model_path = model.find_specific(epoch = epoch)[1]\n",
    "\n",
    "# Load trained weights (fill in path to trained weights here)\n",
    "assert model_path != \"\", \"Provide path to trained weights\"\n",
    "print(\"Loading weights from \", model_path)\n",
    "model.load_weights(model_path, by_name=True)"
   ]
  },
  {
   "cell_type": "markdown",
   "metadata": {},
   "source": [
    "## Prepare the Dataset"
   ]
  },
  {
   "cell_type": "code",
   "execution_count": null,
   "metadata": {},
   "outputs": [],
   "source": [
    "dataset_val = prostate.ProstateDataset()\n",
    "_, val_list = dataset_val.generator_patition(dataset_dir, held_out_set)\n",
    "# val_list = [image for image in val_list if image not in exclude_list]\n",
    "dataset_val.load_prostate(dataset_dir, val_list, mode = 16)\n",
    "dataset_val.prepare()"
   ]
  },
  {
   "cell_type": "markdown",
   "metadata": {},
   "source": [
    "## Run Evaluation"
   ]
  },
  {
   "cell_type": "code",
   "execution_count": null,
   "metadata": {},
   "outputs": [],
   "source": [
    "# Initialize the confusion matrix\n",
    "C_MATRIX = np.zeros((4, 4))\n",
    "# Threshold for evaluating the mIOU\n",
    "Threshold = 0.5\n",
    "# Create crop region\n",
    "hv, wv = utils.create_crop_region(evaluation_config) # meshgrid for crop region\n",
    "# Process display setting\n",
    "display_step = 10 # print out process for every display_step images\n",
    "total_image = len(val_list)\n",
    "rc_num = int(math.sqrt(evaluation_config.MODE)) # how many patches in each row or col\n",
    "for image_id in range(0, len(dataset_val.image_ids), 16):\n",
    "    gt_mask_whole = []\n",
    "    det_mask_whole = []\n",
    "    for i in range(evaluation_config.MODE):\n",
    "        # Load image and ground truth data\n",
    "        image, image_meta, gt_class_id, gt_bbox, gt_mask =\\\n",
    "                modellib.load_image_gt(dataset_val, evaluation_config,\n",
    "                                       image_id + i, use_mini_mask=False)\n",
    "        # Convert gt-instance mask to gt-sementic mask\n",
    "        gt_sementic_mask = utils.instance_2_sementic(gt_mask, gt_class_id)\n",
    "        gt_sementic_mask = gt_sementic_mask['ATmask'][hv, wv] # crop the label\n",
    "        gt_mask_whole.append(gt_sementic_mask)\n",
    "        # Run object detection\n",
    "        results = model.detect([image], verbose=0)\n",
    "        # TODO: create a function for evaluation in model\n",
    "        r = results[0]    \n",
    "        if np.argmax(r['tumor_probs']) == 1:\n",
    "            det_sementic_mask = r['sementic_mask']\n",
    "        else:\n",
    "            det_sementic_mask = np.zeros((image.shape[0], image.shape[1]))\n",
    "        det_sementic_mask = det_sementic_mask[hv, wv] # crop the detection\n",
    "        det_mask_whole.append(det_sementic_mask)\n",
    "    ann = utils.combine_2_whole_slide(gt_mask_whole, rc_num, rc_num)\n",
    "    det = utils.combine_2_whole_slide(det_mask_whole, rc_num, rc_num)\n",
    "    # Compute confusion matrix\n",
    "    c_matrix = confusion_matrix(np.ravel(ann), np.ravel(det))\n",
    "    # Expand the c_matrix to NUM_CLASSES * NUM_CLASSES\n",
    "    c_matrix = utils.expand_c_matrix(c_matrix, evaluation_config.NUM_CLASSES, ann, det)    \n",
    "    # Compute whether the IOU is below the threshold\n",
    "    mIOU, IOU, below_th = utils.compute_mIOU(c_matrix, th = Threshold)\n",
    "    if below_th:\n",
    "        print(\"Number of image is:\", val_list[int(image_id / 16)])\n",
    "        print(\"mIOU: \", mIOU, \"IOU:\", IOU)\n",
    "    # Display the process\n",
    "    if ((image_id + 1) % (evaluation_config.MODE * display_step) == 0):\n",
    "        print('Done evaluating %d / %d!\\n'%((image_id + 1) / evaluation_config.MODE, total_image))"
   ]
  }
 ],
 "metadata": {
  "kernelspec": {
   "display_name": "Python 3",
   "language": "python",
   "name": "python3"
  },
  "language_info": {
   "codemirror_mode": {
    "name": "ipython",
    "version": 3
   },
   "file_extension": ".py",
   "mimetype": "text/x-python",
   "name": "python",
   "nbconvert_exporter": "python",
   "pygments_lexer": "ipython3",
   "version": "3.6.5"
  }
 },
 "nbformat": 4,
 "nbformat_minor": 2
}
