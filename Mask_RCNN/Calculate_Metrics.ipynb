{
 "cells": [
  {
   "cell_type": "code",
   "execution_count": 21,
   "metadata": {
    "collapsed": true
   },
   "outputs": [],
   "source": [
    "import scipy.io as io\n",
    "import numpy as np\n",
    "import utils"
   ]
  },
  {
   "cell_type": "code",
   "execution_count": 22,
   "metadata": {
    "collapsed": true
   },
   "outputs": [],
   "source": [
    "def read_cmatrix(filename):\n",
    "    return io.loadmat(filename + \".mat\")[filename]"
   ]
  },
  {
   "cell_type": "code",
   "execution_count": 23,
   "metadata": {
    "collapsed": true
   },
   "outputs": [],
   "source": [
    "C_MATRIX = np.zeros((4,4))\n",
    "for Set in [0,1,2,3,4]:\n",
    "    filename = \"Set%d_w_DNH_CRF\"%Set\n",
    "    C_MATRIX = C_MATRIX + read_cmatrix(filename)"
   ]
  },
  {
   "cell_type": "code",
   "execution_count": 24,
   "metadata": {},
   "outputs": [
    {
     "name": "stdout",
     "output_type": "stream",
     "text": [
      "Confusion Matrix:\n",
      " [[  2.37638245e+08   5.33031500e+06   1.84275550e+07   3.09525800e+06]\n",
      " [  4.06756000e+06   4.27922220e+07   4.15434400e+06   3.28706000e+05]\n",
      " [  1.56159690e+07   2.50877900e+06   1.64555169e+08   3.66757000e+05]\n",
      " [  1.62185700e+06   6.35582000e+05   8.59311000e+05   3.59218590e+07]]\n",
      " mIOU: 0.795629623468 \n",
      " OPA: 0.894013891908 \n",
      " IOU for each class: [0.83149384139797056, 0.71537955074958992, 0.79692408974465545, 0.83872101197940752] \n",
      " Below_th: False\n"
     ]
    }
   ],
   "source": [
    "mIOU, IOU, below_th = utils.compute_mIOU(C_MATRIX, th = 0.5)\n",
    "OPA = utils.compute_OPA(C_MATRIX)\n",
    "print('Confusion Matrix:\\n', C_MATRIX)\n",
    "print(' mIOU:', mIOU, '\\n',\n",
    "      'OPA:', OPA, '\\n',\n",
    "      'IOU for each class:', IOU, '\\n',\n",
    "      'Below_th:', below_th)"
   ]
  },
  {
   "cell_type": "markdown",
   "metadata": {},
   "source": [
    "## Save whole confusion matrix"
   ]
  },
  {
   "cell_type": "code",
   "execution_count": 25,
   "metadata": {
    "collapsed": true
   },
   "outputs": [],
   "source": [
    "filename = \"WCM_w_DNH_CRF\"\n",
    "C_Matrix_dict = {filename:C_MATRIX}\n",
    "filepath = filename + \".mat\"\n",
    "io.savemat(filepath, C_Matrix_dict)"
   ]
  }
 ],
 "metadata": {
  "kernelspec": {
   "display_name": "Python 3",
   "language": "python",
   "name": "python3"
  },
  "language_info": {
   "codemirror_mode": {
    "name": "ipython",
    "version": 3
   },
   "file_extension": ".py",
   "mimetype": "text/x-python",
   "name": "python",
   "nbconvert_exporter": "python",
   "pygments_lexer": "ipython3",
   "version": "3.5.3"
  }
 },
 "nbformat": 4,
 "nbformat_minor": 2
}
