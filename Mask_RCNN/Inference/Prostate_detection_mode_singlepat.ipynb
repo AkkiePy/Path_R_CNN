{
 "cells": [
  {
   "cell_type": "markdown",
   "metadata": {},
   "source": [
    "# Mask R-CNN - Detect on Prostate Dataset\n",
    "\n",
    "\n",
    "This notebook shows how to use trained Mask R-CNN on prostate dataset for a sigle pic. As for large pathology image, we crop each image to several patches. This notebook is designed for showing the detection result for a single pic. You'd need a GPU, though, because the network backbone is a Resnet101, which would be slow to detect on a CPU.\n",
    "\n",
    "The code of the Prostate dataset can be found in prostate.py."
   ]
  },
  {
   "cell_type": "markdown",
   "metadata": {},
   "source": [
    "## Import Module"
   ]
  },
  {
   "cell_type": "code",
   "execution_count": null,
   "metadata": {},
   "outputs": [],
   "source": [
    "# import module from system lib\n",
    "import os\n",
    "import sys\n",
    "import random\n",
    "import math\n",
    "import re\n",
    "import time\n",
    "import numpy as np\n",
    "import cv2\n",
    "import matplotlib\n",
    "import matplotlib.pyplot as plt\n",
    "from sklearn.metrics import confusion_matrix\n",
    "import scipy.io"
   ]
  },
  {
   "cell_type": "code",
   "execution_count": null,
   "metadata": {},
   "outputs": [],
   "source": [
    "# import module from maskrcnn repo\n",
    "from config import Config\n",
    "import utils\n",
    "import model as modellib\n",
    "import visualize\n",
    "from model import log\n",
    "import prostate\n",
    "\n",
    "%matplotlib inline\n",
    "\n",
    "# Specify GPU to use\n",
    "os.environ[\"CUDA_DEVICE_ORDER\"]=\"PCI_BUS_ID\"   # see issue #152\n",
    "os.environ[\"CUDA_VISIBLE_DEVICES\"]=\"1\"\n",
    "\n",
    "# Root directory of the project\n",
    "ROOT_DIR = os.getcwd()\n",
    "\n",
    "# Directory to save logs and trained model\n",
    "MODEL_DIR = os.path.join(ROOT_DIR, \"logs\")"
   ]
  },
  {
   "cell_type": "markdown",
   "metadata": {},
   "source": [
    "## Configurations"
   ]
  },
  {
   "cell_type": "code",
   "execution_count": null,
   "metadata": {},
   "outputs": [],
   "source": [
    "# Specify the dir that store the prostate dataset\n",
    "dataset_dir = os.path.join(os.path.dirname(os.getcwd()), \"Data_Pre_Processing/cedars-224\")\n",
    "# We do 5-fold validation, specify which fold to be exclude for the current run\n",
    "held_out_set = 0\n",
    "# Featch the mean_pixel based on the training data (data exclude the held_out_set)\n",
    "mean_pixel = prostate.Mean_pixel(dataset_dir, held_out_set)\n",
    "# Configuration\n",
    "class DetectionConfig(prostate.ProstateConfig):\n",
    "    GPU_COUNT = 1\n",
    "    IMAGES_PER_GPU = 1\n",
    "    DETECTION_MIN_CONFIDENCE = 0.5\n",
    "    DETECTION_NMS_THRESHOLD = 1     \n",
    "    MEAN_PIXEL = np.array(mean_pixel)\n",
    "    IMAGE_MAX_DIM = 512\n",
    "    IMAGE_MIN_DIM = 512\n",
    "    DETECTION_CROP = [128, 384, 128, 384] # [height_crop_start, height_crop_end, width_crop_start, width_crop_end]\n",
    "    MODE = 16\n",
    "    USE_TUMORCLASS = True\n",
    "detection_config = DetectionConfig()\n",
    "detection_config.display()"
   ]
  },
  {
   "cell_type": "markdown",
   "metadata": {},
   "source": [
    "## Create Model Graph and Loading Weights"
   ]
  },
  {
   "cell_type": "code",
   "execution_count": null,
   "metadata": {},
   "outputs": [],
   "source": [
    "# Recreate the model in inference mode\n",
    "model = modellib.MaskRCNN(mode=\"detection\", \n",
    "                          config=detection_config,\n",
    "                          model_dir=MODEL_DIR)\n",
    "# Get path to saved weights\n",
    "# Either set a specific path, find a trained weights specified by epoch and held_out_set or find last trained weights\n",
    "h5_filename = None # Specify the h5 filename here if you want to choose a specific file\n",
    "epoch = 71\n",
    "\n",
    "if h5_filename is not None:\n",
    "    model_path = os.path.join(ROOT_DIR, \".h5 file name here\")\n",
    "elif epoch == -1:    \n",
    "    model_path = model.find_last()[1]\n",
    "else:\n",
    "    try:\n",
    "        model_path = model.find_specific(epoch = epoch, held_out_set = held_out_set)[1]\n",
    "    except:\n",
    "        model_path = model.find_specific(epoch = epoch)[1]\n",
    "\n",
    "# Load trained weights (fill in path to trained weights here)\n",
    "assert model_path != \"\", \"Provide path to trained weights\"\n",
    "print(\"Loading weights from \", model_path)\n",
    "model.load_weights(model_path, by_name=True)"
   ]
  },
  {
   "cell_type": "markdown",
   "metadata": {},
   "source": [
    "## Prepare the Dataset and Specify the Interested Image"
   ]
  },
  {
   "cell_type": "code",
   "execution_count": null,
   "metadata": {},
   "outputs": [],
   "source": [
    "Random = True # whether to randomly choose the image\n",
    "# Specify the image that is interested in\n",
    "val_list = [0]\n",
    "# val_list = [image for image in val_list if image not in exclude_list]\n",
    "image_patch_num = 2 # from 0 to mode_number - 1\n",
    "if Random:\n",
    "    _, val_list = dataset_val.generator_patition(dataset_dir, held_out_set)    \n",
    "    image_id = random.choice(val_list)\n",
    "    val_list = [image_id]\n",
    "    image_patch_num = np.random.randint(0, detection_config.MODE)\n",
    "\n",
    "dataset_val = prostate.ProstateDataset()\n",
    "dataset_val.load_prostate(dataset_dir, val_list, mode = detection_config.MODE)\n",
    "dataset_val.prepare()"
   ]
  },
  {
   "cell_type": "markdown",
   "metadata": {},
   "source": [
    "## Load the Dataset and Ground Truth Annotation"
   ]
  },
  {
   "cell_type": "code",
   "execution_count": null,
   "metadata": {},
   "outputs": [],
   "source": [
    "# Load image and ground truth data\n",
    "image, image_meta, gt_class_id, gt_bbox, gt_mask =\\\n",
    "    modellib.load_image_gt(dataset_val, detection_config,\n",
    "                           image_patch_num, use_mini_mask=False)\n",
    "gt_tumor_class = 1 if (sum(gt_class_id)) else 0\n",
    "# Convert gt_instance mask to gt_sementic mask\n",
    "gt_sementic_mask = utils.instance_2_sementic(gt_mask, gt_class_id)\n",
    "gt_sementic_mask = gt_sementic_mask['ATmask']"
   ]
  },
  {
   "cell_type": "markdown",
   "metadata": {},
   "source": [
    "## Run Detection"
   ]
  },
  {
   "cell_type": "code",
   "execution_count": null,
   "metadata": {},
   "outputs": [],
   "source": [
    "# Run object detection\n",
    "results = model.detect([image], verbose=0)\n",
    "r = results[0]\n",
    "if np.argmax(r['tumor_probs']) == 1:\n",
    "    det_sementic_mask = r['sementic_mask']\n",
    "else:\n",
    "    det_sementic_mask = np.zeros((image.shape[0], image.shape[1]))"
   ]
  },
  {
   "cell_type": "markdown",
   "metadata": {},
   "source": [
    "## Crop the Image, Annotation, and Detection"
   ]
  },
  {
   "cell_type": "code",
   "execution_count": null,
   "metadata": {},
   "outputs": [],
   "source": [
    "Crop = True\n",
    "if Crop:\n",
    "    hv, wv = utils.create_crop_region(detection_config)\n",
    "    image = image[hv, wv]\n",
    "    gt_sementic_mask = gt_sementic_mask[hv, wv]\n",
    "    det_sementic_mask = det_sementic_mask[hv, wv]"
   ]
  },
  {
   "cell_type": "markdown",
   "metadata": {},
   "source": [
    "## Visualization"
   ]
  },
  {
   "cell_type": "code",
   "execution_count": null,
   "metadata": {},
   "outputs": [],
   "source": [
    "# Visualization the sementic map\n",
    "visualize.display_sementic(image, gt_sementic_mask,\n",
    "                            figsize=(8, 8))\n",
    "visualize.display_sementic(image, det_sementic_mask, \n",
    "                            figsize=(8, 8))\n",
    "# Print Tumor prob detection and ground truth\n",
    "print('Tumor prob detection:', r['tumor_probs'], '\\t','Tumor prob ground truth:', gt_tumor_class)"
   ]
  }
 ],
 "metadata": {
  "kernelspec": {
   "display_name": "Python 3",
   "language": "python",
   "name": "python3"
  },
  "language_info": {
   "codemirror_mode": {
    "name": "ipython",
    "version": 3
   },
   "file_extension": ".py",
   "mimetype": "text/x-python",
   "name": "python",
   "nbconvert_exporter": "python",
   "pygments_lexer": "ipython3",
   "version": "3.6.5"
  }
 },
 "nbformat": 4,
 "nbformat_minor": 2
}
