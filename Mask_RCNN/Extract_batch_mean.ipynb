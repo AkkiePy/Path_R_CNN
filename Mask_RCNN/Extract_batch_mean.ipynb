{
 "cells": [
  {
   "cell_type": "code",
   "execution_count": null,
   "metadata": {},
   "outputs": [],
   "source": [
    "import prostate\n",
    "import os\n",
    "config = prostate.ProstateConfig()\n",
    "# Training dataset\n",
    "data_path = '/data/wenyuan/Path_R_CNN/Data_Pre_Processing'\n",
    "dataset_dir = os.path.join(data_path, 'cedars-224')\n",
    "subset_1 = [0, 1, 2, 3, 6, 7, 8, 9]\n",
    "dataset_train = prostate.ProstateDataset()\n",
    "dataset_train.load_prostate(dataset_dir, subset_1)\n",
    "dataset_train.prepare() # prepare the dataset class for use\n",
    "\n",
    "for image_id in dataset_train.image_ids:\n",
    "    image = dataset_train.load_image(image_id)\n",
    "    mean_sum = mean_sum + np.mean(image, axis = (0, 1)) \\\n",
    "    if image_id else np.mean(image, axis = (0, 1))\n",
    "\n",
    "mean = mean_sum / len(dataset_train.image_ids)\n",
    "print(mean)"
   ]
  }
 ],
 "metadata": {
  "kernelspec": {
   "display_name": "Python 3",
   "language": "python",
   "name": "python3"
  },
  "language_info": {
   "codemirror_mode": {
    "name": "ipython",
    "version": 3
   },
   "file_extension": ".py",
   "mimetype": "text/x-python",
   "name": "python",
   "nbconvert_exporter": "python",
   "pygments_lexer": "ipython3",
   "version": "3.6.5"
  }
 },
 "nbformat": 4,
 "nbformat_minor": 2
}
