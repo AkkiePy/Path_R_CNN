{
 "cells": [
  {
   "cell_type": "code",
   "execution_count": 1,
   "metadata": {},
   "outputs": [
    {
     "name": "stderr",
     "output_type": "stream",
     "text": [
      "Using TensorFlow backend.\n"
     ]
    }
   ],
   "source": [
    "import os\n",
    "import sys\n",
    "import random\n",
    "import math\n",
    "import re\n",
    "import time\n",
    "import numpy as np\n",
    "import cv2\n",
    "import matplotlib\n",
    "import matplotlib.pyplot as plt\n",
    "\n",
    "from config import Config\n",
    "import utils\n",
    "import model as modellib\n",
    "import visualize\n",
    "from model import log\n",
    "import prostate\n",
    "\n",
    "%matplotlib inline\n",
    "\n",
    "# GPU to use\n",
    "os.environ[\"CUDA_DEVICE_ORDER\"]=\"PCI_BUS_ID\"   # see issue #152\n",
    "os.environ[\"CUDA_VISIBLE_DEVICES\"]=\"0\""
   ]
  },
  {
   "cell_type": "code",
   "execution_count": 2,
   "metadata": {
    "collapsed": true
   },
   "outputs": [],
   "source": [
    "dataset_dir = \"/scratch/wenyuan/Mask_RCNN_On_Pathology/Data_Pre_Processing/cedars-224\"\n",
    "held_out_set = 4"
   ]
  },
  {
   "cell_type": "code",
   "execution_count": 3,
   "metadata": {},
   "outputs": [],
   "source": [
    "dataset_val = prostate.ProstateDataset()\n",
    "_, val_list = dataset_val.generator_patition(dataset_dir, held_out_set)"
   ]
  },
  {
   "cell_type": "code",
   "execution_count": 4,
   "metadata": {
    "collapsed": true
   },
   "outputs": [],
   "source": [
    "dataset_val.load_prostate(dataset_dir, val_list, mode = 16)\n",
    "dataset_val.prepare()"
   ]
  },
  {
   "cell_type": "code",
   "execution_count": 8,
   "metadata": {},
   "outputs": [],
   "source": [
    "class InferenceConfig(prostate.ProstateConfig):\n",
    "    GPU_COUNT = 1\n",
    "    IMAGES_PER_GPU = 1\n",
    "    DETECTION_MIN_CONFIDENCE = 0\n",
    "    DETECTION_NMS_THRESHOLD = 1\n",
    "\n",
    "inference_config = InferenceConfig()"
   ]
  },
  {
   "cell_type": "code",
   "execution_count": 12,
   "metadata": {},
   "outputs": [
    {
     "name": "stdout",
     "output_type": "stream",
     "text": [
      "Image_id : 337 is all stroma\n",
      "Image_id : 370 is all stroma\n",
      "Image_id : 168 is all stroma\n",
      "Image_id : 262 is all stroma\n",
      "Image_id : 393 is all stroma\n",
      "Image_id : 260 is all stroma\n",
      "Image_id : 222 is all stroma\n",
      "Image_id : 15 is all stroma\n",
      "Image_id : 219 is all stroma\n",
      "Image_id : 237 is all stroma\n",
      "Image_id : 423 is all stroma\n",
      "Image_id : 367 is all stroma\n",
      "Image_id : 18 is all stroma\n",
      "Image_id : 40 is all stroma\n",
      "Image_id : 375 is all stroma\n",
      "Image_id : 499 is all stroma\n",
      "Image_id : 47 is all stroma\n"
     ]
    }
   ],
   "source": [
    "for image_id in range(0, len(dataset_val.image_ids), 16):\n",
    "    stroma = 0 \n",
    "    for patch in range(16):\n",
    "        image, image_meta, gt_class_id, gt_bbox, gt_mask =\\\n",
    "        modellib.load_image_gt(dataset_val, inference_config,\n",
    "                               image_id + patch, use_mini_mask=False)\n",
    "        tumor_class_gt = 1 \\\n",
    "        if (sum(gt_class_id)) else 0\n",
    "        stroma += tumor_class_gt\n",
    "    if (stroma == 0):\n",
    "        print('Image_id : %d is all stroma' %val_list[int(image_id / 16)])"
   ]
  },
  {
   "cell_type": "code",
   "execution_count": null,
   "metadata": {
    "collapsed": true
   },
   "outputs": [],
   "source": []
  }
 ],
 "metadata": {
  "kernelspec": {
   "display_name": "Python 3",
   "language": "python",
   "name": "python3"
  },
  "language_info": {
   "codemirror_mode": {
    "name": "ipython",
    "version": 3
   },
   "file_extension": ".py",
   "mimetype": "text/x-python",
   "name": "python",
   "nbconvert_exporter": "python",
   "pygments_lexer": "ipython3",
   "version": "3.5.3"
  }
 },
 "nbformat": 4,
 "nbformat_minor": 2
}
