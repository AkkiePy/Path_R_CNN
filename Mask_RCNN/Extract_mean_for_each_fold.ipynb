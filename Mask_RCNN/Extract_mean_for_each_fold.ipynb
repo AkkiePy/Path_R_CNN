{
 "cells": [
  {
   "cell_type": "code",
   "execution_count": 1,
   "metadata": {},
   "outputs": [
    {
     "name": "stderr",
     "output_type": "stream",
     "text": [
      "Using TensorFlow backend.\n"
     ]
    }
   ],
   "source": [
    "import prostate\n",
    "import numpy as np"
   ]
  },
  {
   "cell_type": "code",
   "execution_count": 4,
   "metadata": {},
   "outputs": [
    {
     "name": "stdout",
     "output_type": "stream",
     "text": [
      "Done caculating 100 images in held out set 0!\n",
      "Done caculating 200 images in held out set 0!\n",
      "Done caculating 300 images in held out set 0!\n",
      "Done caculating 400 images in held out set 0!\n",
      "Done caculating 100 images in held out set 1!\n",
      "Done caculating 200 images in held out set 1!\n",
      "Done caculating 300 images in held out set 1!\n",
      "Done caculating 400 images in held out set 1!\n",
      "Done caculating 100 images in held out set 2!\n",
      "Done caculating 200 images in held out set 2!\n",
      "Done caculating 300 images in held out set 2!\n",
      "Done caculating 400 images in held out set 2!\n",
      "Done caculating 100 images in held out set 3!\n",
      "Done caculating 200 images in held out set 3!\n",
      "Done caculating 300 images in held out set 3!\n",
      "Done caculating 400 images in held out set 3!\n",
      "Done caculating 100 images in held out set 4!\n",
      "Done caculating 200 images in held out set 4!\n",
      "Done caculating 300 images in held out set 4!\n",
      "Done caculating 400 images in held out set 4!\n"
     ]
    }
   ],
   "source": [
    "dataset_dir = \"/scratch/wenyuan/Mask-RCNN/Data_Pre_Processing/cedars-224\"\n",
    "\n",
    "res_dict = {}\n",
    "\n",
    "for held_out_set in range(5):\n",
    "    dataset_train = prostate.ProstateDataset()\n",
    "    train_list, val_list = dataset_train.generator_patition(dataset_dir, held_out_set)\n",
    "    dataset_train.load_prostate(dataset_dir, train_list)\n",
    "    dataset_train.prepare()\n",
    "    for image_id in dataset_train.image_ids:\n",
    "        image = dataset_train.load_image(image_id)\n",
    "        mean_sum = mean_sum + np.mean(image, axis = (0, 1)) \\\n",
    "        if image_id else np.mean(image, axis = (0, 1))\n",
    "        mean = mean_sum / len(dataset_train.image_ids)\n",
    "        if (image_id + 1) % 100 == 0:\n",
    "            print('Done caculating %d images in held out set %d!' %(image_id + 1, held_out_set))\n",
    "    \n",
    "    res_dict[str(held_out_set)] = mean"
   ]
  },
  {
   "cell_type": "code",
   "execution_count": 5,
   "metadata": {},
   "outputs": [
    {
     "name": "stdout",
     "output_type": "stream",
     "text": [
      "{'1': array([ 194.0200627 ,  121.00573752,  183.84099475]), '2': array([ 194.05923719,  121.10764634,  183.85822645]), '3': array([ 193.97197787,  120.93338008,  183.82220684]), '4': array([ 193.97800579,  120.89113632,  183.79060979]), '0': array([ 193.95062641,  120.83140887,  183.74016669])}\n"
     ]
    }
   ],
   "source": [
    "print(res_dict)"
   ]
  },
  {
   "cell_type": "code",
   "execution_count": 6,
   "metadata": {
    "collapsed": true
   },
   "outputs": [],
   "source": [
    "res_dict['explanation'] = 'training data pixel mean for 5 fold data split as done by cedars!'"
   ]
  },
  {
   "cell_type": "code",
   "execution_count": 7,
   "metadata": {},
   "outputs": [
    {
     "name": "stdout",
     "output_type": "stream",
     "text": [
      "{'2': array([ 194.05923719,  121.10764634,  183.85822645]), '3': array([ 193.97197787,  120.93338008,  183.82220684]), '4': array([ 193.97800579,  120.89113632,  183.79060979]), '1': array([ 194.0200627 ,  121.00573752,  183.84099475]), 'explanation': 'training data pixel mean for 5 fold data split as done by cedars!', '0': array([ 193.95062641,  120.83140887,  183.74016669])}\n"
     ]
    }
   ],
   "source": [
    "print(res_dict)"
   ]
  },
  {
   "cell_type": "code",
   "execution_count": 8,
   "metadata": {
    "collapsed": true
   },
   "outputs": [],
   "source": [
    "import scipy.io\n",
    "scipy.io.savemat('5_fold_train_pixel_mean', res_dict, appendmat=True, format='5', \n",
    "                 long_field_names=False, do_compression=False, oned_as='row')"
   ]
  },
  {
   "cell_type": "code",
   "execution_count": null,
   "metadata": {
    "collapsed": true
   },
   "outputs": [],
   "source": []
  }
 ],
 "metadata": {
  "kernelspec": {
   "display_name": "Python 3",
   "language": "python",
   "name": "python3"
  },
  "language_info": {
   "codemirror_mode": {
    "name": "ipython",
    "version": 3
   },
   "file_extension": ".py",
   "mimetype": "text/x-python",
   "name": "python",
   "nbconvert_exporter": "python",
   "pygments_lexer": "ipython3",
   "version": "3.5.3"
  }
 },
 "nbformat": 4,
 "nbformat_minor": 2
}
