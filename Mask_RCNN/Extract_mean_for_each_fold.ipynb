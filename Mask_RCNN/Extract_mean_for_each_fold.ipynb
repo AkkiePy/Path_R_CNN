{
 "cells": [
  {
   "cell_type": "code",
   "execution_count": null,
   "metadata": {},
   "outputs": [],
   "source": [
    "\"\"\"This ipynb extracts image mean of each channel of each fold\"\"\""
   ]
  },
  {
   "cell_type": "code",
   "execution_count": null,
   "metadata": {},
   "outputs": [],
   "source": [
    "import prostate\n",
    "import numpy as np"
   ]
  },
  {
   "cell_type": "code",
   "execution_count": null,
   "metadata": {},
   "outputs": [],
   "source": [
    "dataset_dir = \"/data/wenyuan/Path_R_CNN/Data_Pre_Processing/cedars-224\"\n",
    "\n",
    "res_dict = {}\n",
    "\n",
    "for held_out_set in range(5):\n",
    "    dataset_train = prostate.ProstateDataset()\n",
    "    train_list, val_list = dataset_train.generator_patition(dataset_dir, held_out_set)\n",
    "    dataset_train.load_prostate(dataset_dir, train_list)\n",
    "    dataset_train.prepare()\n",
    "    for image_id in dataset_train.image_ids:\n",
    "        image = dataset_train.load_image(image_id)\n",
    "        mean_sum = mean_sum + np.mean(image, axis = (0, 1)) \\\n",
    "        if image_id else np.mean(image, axis = (0, 1))\n",
    "        mean = mean_sum / len(dataset_train.image_ids)\n",
    "        if (image_id + 1) % 100 == 0:\n",
    "            print('Done caculating %d images in held out set %d!' %(image_id + 1, held_out_set))\n",
    "    \n",
    "    res_dict[str(held_out_set)] = mean"
   ]
  },
  {
   "cell_type": "code",
   "execution_count": null,
   "metadata": {},
   "outputs": [],
   "source": [
    "res_dict['explanation'] = 'training data pixel mean for 5 fold data split as done by cedars!'"
   ]
  },
  {
   "cell_type": "code",
   "execution_count": null,
   "metadata": {},
   "outputs": [],
   "source": [
    "import scipy.io\n",
    "scipy.io.savemat('5_fold_train_pixel_mean', res_dict, appendmat=True, format='5', \n",
    "                 long_field_names=False, do_compression=False, oned_as='row')"
   ]
  }
 ],
 "metadata": {
  "kernelspec": {
   "display_name": "Python 3",
   "language": "python",
   "name": "python3"
  },
  "language_info": {
   "codemirror_mode": {
    "name": "ipython",
    "version": 3
   },
   "file_extension": ".py",
   "mimetype": "text/x-python",
   "name": "python",
   "nbconvert_exporter": "python",
   "pygments_lexer": "ipython3",
   "version": "3.6.5"
  }
 },
 "nbformat": 4,
 "nbformat_minor": 2
}
